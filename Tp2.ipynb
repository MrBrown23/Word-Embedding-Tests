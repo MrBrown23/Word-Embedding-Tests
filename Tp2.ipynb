{
  "cells": [
    {
      "cell_type": "markdown",
      "metadata": {
        "id": "5d3ed698"
      },
      "source": [
        "# Importing Data"
      ],
      "id": "5d3ed698"
    },
    {
      "cell_type": "code",
      "execution_count": null,
      "metadata": {
        "id": "HZhNL6lMTG3s"
      },
      "outputs": [],
      "source": [
        "pip install farasapy"
      ],
      "id": "HZhNL6lMTG3s"
    },
    {
      "cell_type": "code",
      "execution_count": null,
      "metadata": {
        "id": "QuerF9sxXtHD"
      },
      "outputs": [],
      "source": [
        "pip install flair"
      ],
      "id": "QuerF9sxXtHD"
    },
    {
      "cell_type": "code",
      "execution_count": null,
      "metadata": {
        "id": "908620cd"
      },
      "outputs": [],
      "source": [
        "import pandas as pd\n"
      ],
      "id": "908620cd"
    },
    {
      "cell_type": "code",
      "execution_count": null,
      "metadata": {
        "colab": {
          "base_uri": "https://localhost:8080/"
        },
        "id": "Wf7S19kvySo1",
        "outputId": "f99c8b29-fb22-45d9-8464-c370fb5f44a6"
      },
      "outputs": [
        {
          "output_type": "stream",
          "name": "stdout",
          "text": [
            "Mounted at /content/drive\n"
          ]
        }
      ],
      "source": [
        "from google.colab import drive\n",
        "drive.mount('/content/drive')"
      ],
      "id": "Wf7S19kvySo1"
    },
    {
      "cell_type": "code",
      "execution_count": null,
      "metadata": {
        "id": "435b2fc5"
      },
      "outputs": [],
      "source": [
        "dataset=pd.read_csv(\"/content/drive/MyDrive/Colab Notebooks/test-dataset.csv\")"
      ],
      "id": "435b2fc5"
    },
    {
      "cell_type": "markdown",
      "source": [
        "# **Tokenization**"
      ],
      "metadata": {
        "id": "tdZgmGm8acUr"
      },
      "id": "tdZgmGm8acUr"
    },
    {
      "cell_type": "markdown",
      "source": [
        "Les données sources et cibles, maintenant converties en chaînes de caractères, sont ensuite divisées en mots individuels à l'aide de la fonction word_tokenize de NLTK. Cette étape est cruciale pour obtenir une liste de mots à partir de chaque phrase."
      ],
      "metadata": {
        "id": "yfA1tYMyfUDt"
      },
      "id": "yfA1tYMyfUDt"
    },
    {
      "cell_type": "code",
      "execution_count": null,
      "metadata": {
        "colab": {
          "base_uri": "https://localhost:8080/"
        },
        "id": "ff401a81",
        "outputId": "d36713a9-46d2-4be5-ce34-bbbeb1262ea1"
      },
      "outputs": [
        {
          "output_type": "stream",
          "name": "stderr",
          "text": [
            "[nltk_data] Downloading package punkt to /root/nltk_data...\n",
            "[nltk_data]   Package punkt is already up-to-date!\n"
          ]
        },
        {
          "output_type": "execute_result",
          "data": {
            "text/plain": [
              "True"
            ]
          },
          "metadata": {},
          "execution_count": 7
        }
      ],
      "source": [
        "import nltk\n",
        "nltk.download('punkt')"
      ],
      "id": "ff401a81"
    },
    {
      "cell_type": "code",
      "execution_count": null,
      "metadata": {
        "id": "54fc6660"
      },
      "outputs": [],
      "source": [
        "from nltk.tokenize import word_tokenize\n"
      ],
      "id": "54fc6660"
    },
    {
      "cell_type": "code",
      "execution_count": null,
      "metadata": {
        "id": "071577dd"
      },
      "outputs": [],
      "source": [
        "source_text = dataset['source'].astype(str)\n",
        "target_text = dataset['target'].astype(str)"
      ],
      "id": "071577dd"
    },
    {
      "cell_type": "code",
      "execution_count": null,
      "metadata": {
        "id": "68a81c93"
      },
      "outputs": [],
      "source": [
        "source_tokens = source_text.apply(word_tokenize)\n",
        "target_tokens = target_text.apply(word_tokenize)"
      ],
      "id": "68a81c93"
    },
    {
      "cell_type": "markdown",
      "source": [
        "# **Stemming**"
      ],
      "metadata": {
        "id": "kCrFd2x0fmzO"
      },
      "id": "kCrFd2x0fmzO"
    },
    {
      "cell_type": "markdown",
      "source": [
        "La bibliothèque Farasa est utilisée pour effectuer le stemming, une technique qui réduit chaque mot à sa forme racine. Pour ce faire, une fonction FarasaStemmer est appliquée aux mots obtenus après la tokenisation."
      ],
      "metadata": {
        "id": "x_nk9tvMfn-Q"
      },
      "id": "x_nk9tvMfn-Q"
    },
    {
      "cell_type": "code",
      "execution_count": null,
      "metadata": {
        "colab": {
          "base_uri": "https://localhost:8080/"
        },
        "id": "6ba0993c",
        "outputId": "2649bdf3-6e85-48eb-defb-e780ce3fe852"
      },
      "outputs": [
        {
          "output_type": "stream",
          "name": "stderr",
          "text": [
            "[2023-12-27 22:39:37,113 - farasapy_logger - WARNING]: Be careful with large lines as they may break on interactive mode. You may switch to Standalone mode for such cases.\n"
          ]
        }
      ],
      "source": [
        "from farasa.stemmer import FarasaStemmer\n",
        "farasa_stemmer = FarasaStemmer(interactive=True)"
      ],
      "id": "6ba0993c"
    },
    {
      "cell_type": "markdown",
      "source": [
        "Une fonction apply_stemming est définie pour parcourir chaque liste de mots obtenue après la tokenisation. Cette fonction applique le stemming en utilisant la bibliothèque Farasa pour réduire chaque mot à sa forme racine."
      ],
      "metadata": {
        "id": "KIgRZlWmfzPM"
      },
      "id": "KIgRZlWmfzPM"
    },
    {
      "cell_type": "code",
      "execution_count": null,
      "metadata": {
        "id": "a58a0c2a"
      },
      "outputs": [],
      "source": [
        "def apply_stemming(tokens):\n",
        "    stemmed_tokens = []\n",
        "    for token in tokens:\n",
        "        stemmed_token = farasa_stemmer.stem(token)\n",
        "        stemmed_tokens.append(stemmed_token)\n",
        "    return stemmed_tokens"
      ],
      "id": "a58a0c2a"
    },
    {
      "cell_type": "code",
      "execution_count": null,
      "metadata": {
        "id": "b972c260"
      },
      "outputs": [],
      "source": [
        "source_tokens = source_tokens.apply(apply_stemming)"
      ],
      "id": "b972c260"
    },
    {
      "cell_type": "code",
      "execution_count": null,
      "metadata": {
        "id": "c7cb7d71"
      },
      "outputs": [],
      "source": [
        "target_tokens = target_tokens.apply(apply_stemming)"
      ],
      "id": "c7cb7d71"
    },
    {
      "cell_type": "code",
      "execution_count": null,
      "metadata": {
        "colab": {
          "base_uri": "https://localhost:8080/"
        },
        "id": "e4f37170",
        "outputId": "ab2bde84-70f5-495e-a47a-ccc6a3e7db6f"
      },
      "outputs": [
        {
          "output_type": "execute_result",
          "data": {
            "text/plain": [
              "0                                [بسم, الله, رحمن, رحيم]\n",
              "1                                [بسم, الله, رحمن, رحيم]\n",
              "2                                [بسم, الله, رحمن, رحيم]\n",
              "3                                [بسم, الله, رحمن, رحيم]\n",
              "4                                [بسم, الله, رحمن, رحيم]\n",
              "                             ...                        \n",
              "133    [إن, ل, في, أنعام, عبرة, نسق, من, في, طون, من,...\n",
              "134    [قال, لو, أنتم, ملك, خزانة, رحمة, رب, إذا, لأم...\n",
              "135    [قال, لو, أنتم, ملك, خزانة, رحمة, رب, إذا, لأم...\n",
              "136                        [ما, أعجل, عن, قوم, يا, موسى]\n",
              "137        [قال, إن, قد, فتنة, قوم, من, بعد, أضل, سامري]\n",
              "Name: source, Length: 138, dtype: object"
            ]
          },
          "metadata": {},
          "execution_count": 16
        }
      ],
      "source": [
        "source_tokens"
      ],
      "id": "e4f37170"
    },
    {
      "cell_type": "code",
      "execution_count": null,
      "metadata": {
        "colab": {
          "base_uri": "https://localhost:8080/"
        },
        "id": "72cf79ff",
        "outputId": "4745bd40-0e35-43d0-fef7-77970fb8518f"
      },
      "outputs": [
        {
          "output_type": "execute_result",
          "data": {
            "text/plain": [
              "0      [قد, جاء, رسول, من, نفس, عزيز, على, ما, عنت, ح...\n",
              "1      [قال, اركب, في, بسم, الله, مجرى, مرسا, إن, رب,...\n",
              "2      [ما, ب, من, نعمة, من, الله, ثم, إذا, مس, ضر, إ...\n",
              "3                                [رحمن, على, عرش, استوى]\n",
              "4                                   [سبح, اسم, رب, عظيم]\n",
              "                             ...                        \n",
              "133                                       [من, شاء, ذكر]\n",
              "134                                 [إذا, مس, خير, منوع]\n",
              "135                                          [إلا, مصلي]\n",
              "136      [إن, هذا, متبر, ما, هم, في, باطل, ما, كان, عمل]\n",
              "137    [كتاب, ل, في, لوح, من, كل, شيء, موعظة, تفصيل, ...\n",
              "Name: target, Length: 138, dtype: object"
            ]
          },
          "metadata": {},
          "execution_count": 17
        }
      ],
      "source": [
        "target_tokens"
      ],
      "id": "72cf79ff"
    },
    {
      "cell_type": "markdown",
      "source": [
        "# Removing Stop Words"
      ],
      "metadata": {
        "id": "MZlwShKMcnZ_"
      },
      "id": "MZlwShKMcnZ_"
    },
    {
      "cell_type": "markdown",
      "source": [
        "Le code importe également une liste de mots vides (stopwords) à partir de la bibliothèque NLTK."
      ],
      "metadata": {
        "id": "fZ64wSJ0gb08"
      },
      "id": "fZ64wSJ0gb08"
    },
    {
      "cell_type": "code",
      "execution_count": null,
      "metadata": {
        "colab": {
          "base_uri": "https://localhost:8080/"
        },
        "id": "690f4729",
        "outputId": "20fef548-c98d-4c6e-e6a7-abb1dde3bc8c"
      },
      "outputs": [
        {
          "output_type": "stream",
          "name": "stderr",
          "text": [
            "[nltk_data] Downloading package stopwords to /root/nltk_data...\n",
            "[nltk_data]   Unzipping corpora/stopwords.zip.\n"
          ]
        },
        {
          "output_type": "execute_result",
          "data": {
            "text/plain": [
              "True"
            ]
          },
          "metadata": {},
          "execution_count": 18
        }
      ],
      "source": [
        "from nltk.corpus import stopwords\n",
        "\n",
        "nltk.download('stopwords')"
      ],
      "id": "690f4729"
    },
    {
      "cell_type": "markdown",
      "source": [
        "Les fonctions remove_blanks sont appliquées aux listes de mots source_tokens et target_tokens à l'aide de la méthode apply. Cela permet de nettoyer les listes de mots obtenues précédemment en éliminant les mots vides, améliorant ainsi la qualité des données pour une utilisation ultérieure."
      ],
      "metadata": {
        "id": "yHuqe2gugdDP"
      },
      "id": "yHuqe2gugdDP"
    },
    {
      "cell_type": "code",
      "execution_count": null,
      "metadata": {
        "id": "7822c7c6"
      },
      "outputs": [],
      "source": [
        "def remove_blanks(tokens):\n",
        "    return [token for token in tokens if token.strip()]\n"
      ],
      "id": "7822c7c6"
    },
    {
      "cell_type": "code",
      "execution_count": null,
      "metadata": {
        "id": "0eda4f94"
      },
      "outputs": [],
      "source": [
        "source_tokens = source_tokens.apply(remove_blanks)\n",
        "target_tokens = target_tokens.apply(remove_blanks)"
      ],
      "id": "0eda4f94"
    },
    {
      "cell_type": "markdown",
      "source": [
        "En combinant ces étapes supplémentaires avec la tokenisation, le stemming et la suppression des mots vides, le code effectue un prétraitement complet des données textuelles en arabes."
      ],
      "metadata": {
        "id": "mBebcU-ugnsC"
      },
      "id": "mBebcU-ugnsC"
    },
    {
      "cell_type": "code",
      "execution_count": null,
      "metadata": {
        "colab": {
          "base_uri": "https://localhost:8080/"
        },
        "id": "e9f288a8",
        "outputId": "f2294ab5-90c9-4318-a143-d4b3225329d3"
      },
      "outputs": [
        {
          "output_type": "execute_result",
          "data": {
            "text/plain": [
              "0                                [بسم, الله, رحمن, رحيم]\n",
              "1                                [بسم, الله, رحمن, رحيم]\n",
              "2                                [بسم, الله, رحمن, رحيم]\n",
              "3                                [بسم, الله, رحمن, رحيم]\n",
              "4                                [بسم, الله, رحمن, رحيم]\n",
              "                             ...                        \n",
              "133    [إن, ل, في, أنعام, عبرة, نسق, من, في, طون, من,...\n",
              "134    [قال, لو, أنتم, ملك, خزانة, رحمة, رب, إذا, لأم...\n",
              "135    [قال, لو, أنتم, ملك, خزانة, رحمة, رب, إذا, لأم...\n",
              "136                        [ما, أعجل, عن, قوم, يا, موسى]\n",
              "137        [قال, إن, قد, فتنة, قوم, من, بعد, أضل, سامري]\n",
              "Name: source, Length: 138, dtype: object"
            ]
          },
          "metadata": {},
          "execution_count": 21
        }
      ],
      "source": [
        "source_tokens"
      ],
      "id": "e9f288a8"
    },
    {
      "cell_type": "code",
      "execution_count": null,
      "metadata": {
        "colab": {
          "base_uri": "https://localhost:8080/"
        },
        "id": "707065fa",
        "outputId": "118ae4b0-3631-4878-9454-15abd3d2fb2b",
        "scrolled": true
      },
      "outputs": [
        {
          "output_type": "execute_result",
          "data": {
            "text/plain": [
              "0      [قد, جاء, رسول, من, نفس, عزيز, على, ما, عنت, ح...\n",
              "1      [قال, اركب, في, بسم, الله, مجرى, مرسا, إن, رب,...\n",
              "2      [ما, ب, من, نعمة, من, الله, ثم, إذا, مس, ضر, إ...\n",
              "3                                [رحمن, على, عرش, استوى]\n",
              "4                                   [سبح, اسم, رب, عظيم]\n",
              "                             ...                        \n",
              "133                                       [من, شاء, ذكر]\n",
              "134                                 [إذا, مس, خير, منوع]\n",
              "135                                          [إلا, مصلي]\n",
              "136      [إن, هذا, متبر, ما, هم, في, باطل, ما, كان, عمل]\n",
              "137    [كتاب, ل, في, لوح, من, كل, شيء, موعظة, تفصيل, ...\n",
              "Name: target, Length: 138, dtype: object"
            ]
          },
          "metadata": {},
          "execution_count": 22
        }
      ],
      "source": [
        "target_tokens"
      ],
      "id": "707065fa"
    },
    {
      "cell_type": "markdown",
      "metadata": {
        "id": "9e74d6bf"
      },
      "source": [
        "# Combined Data"
      ],
      "id": "9e74d6bf"
    },
    {
      "cell_type": "code",
      "execution_count": null,
      "metadata": {
        "id": "fef56675"
      },
      "outputs": [],
      "source": [
        "relevance_degree=dataset[\"relevance_degree\"]"
      ],
      "id": "fef56675"
    },
    {
      "cell_type": "code",
      "execution_count": null,
      "metadata": {
        "id": "0b3d47eb"
      },
      "outputs": [],
      "source": [
        "combined_data = []\n",
        "for idx in range(len(source_tokens)):\n",
        "    combined_data.append({\n",
        "        'source': ' '.join(source_tokens[idx]),\n",
        "        'target': ' '.join(target_tokens[idx]),\n",
        "        'relevance_degree': relevance_degree[idx]\n",
        "    })"
      ],
      "id": "0b3d47eb"
    },
    {
      "cell_type": "code",
      "execution_count": null,
      "metadata": {
        "id": "0b027c5b"
      },
      "outputs": [],
      "source": [
        "from flair.embeddings import FlairEmbeddings, WordEmbeddings,TransformerDocumentEmbeddings, BytePairEmbeddings, DocumentRNNEmbeddings, DocumentPoolEmbeddings\n",
        "from flair.data import Sentence\n",
        "from sklearn.metrics.pairwise import cosine_similarity\n"
      ],
      "id": "0b027c5b"
    },
    {
      "cell_type": "markdown",
      "source": [
        "# **Embeddings**"
      ],
      "metadata": {
        "id": "_qi1fWwAc1N6"
      },
      "id": "_qi1fWwAc1N6"
    },
    {
      "cell_type": "markdown",
      "source": [
        "Dans cette partie, nous allons utiliser les embeddings disponibles dans Flair WordEmbeddings et FlairEmbeddings.\n",
        "Pour chaque type d'embedding, à savoir TransformerDocumentEmbeddings, DocumentRNNEmbeddings et DocumentPoolEmbeddings nous allons calculer la similarité cosinus entre la cible et la source. Ensuite, nous allons calculer à la fois la corrélation de Spearman et la corrélation de Pearson pour chaque cas correspondant."
      ],
      "metadata": {
        "id": "zFAplZnRisX2"
      },
      "id": "zFAplZnRisX2"
    },
    {
      "cell_type": "markdown",
      "source": [
        "# **1-Word Embedding**"
      ],
      "metadata": {
        "id": "SmISkmxCDfX-"
      },
      "id": "SmISkmxCDfX-"
    },
    {
      "cell_type": "code",
      "source": [
        "word_embedding = WordEmbeddings('ar')\n"
      ],
      "metadata": {
        "colab": {
          "base_uri": "https://localhost:8080/"
        },
        "id": "uwdrGGmdDiUD",
        "outputId": "3cc8d77c-60f0-48c9-9736-6f8fc9138ae7"
      },
      "id": "uwdrGGmdDiUD",
      "execution_count": null,
      "outputs": [
        {
          "output_type": "stream",
          "name": "stdout",
          "text": [
            "2023-12-27 23:16:14,749 https://flair.informatik.hu-berlin.de/resources/embeddings/token/ar-wiki-fasttext-300d-1M.vectors.npy not found in cache, downloading to /tmp/tmp8fjrs0or\n"
          ]
        },
        {
          "output_type": "stream",
          "name": "stderr",
          "text": [
            "100%|██████████| 699M/699M [00:34<00:00, 21.4MB/s]"
          ]
        },
        {
          "output_type": "stream",
          "name": "stdout",
          "text": [
            "2023-12-27 23:16:49,557 copying /tmp/tmp8fjrs0or to cache at /root/.flair/embeddings/ar-wiki-fasttext-300d-1M.vectors.npy\n"
          ]
        },
        {
          "output_type": "stream",
          "name": "stderr",
          "text": [
            "\n"
          ]
        },
        {
          "output_type": "stream",
          "name": "stdout",
          "text": [
            "2023-12-27 23:16:59,126 removing temp file /tmp/tmp8fjrs0or\n",
            "2023-12-27 23:17:00,097 https://flair.informatik.hu-berlin.de/resources/embeddings/token/ar-wiki-fasttext-300d-1M not found in cache, downloading to /tmp/tmpzb392hui\n"
          ]
        },
        {
          "output_type": "stream",
          "name": "stderr",
          "text": [
            "100%|██████████| 25.5M/25.5M [00:01<00:00, 13.4MB/s]"
          ]
        },
        {
          "output_type": "stream",
          "name": "stdout",
          "text": [
            "2023-12-27 23:17:02,646 copying /tmp/tmpzb392hui to cache at /root/.flair/embeddings/ar-wiki-fasttext-300d-1M\n"
          ]
        },
        {
          "output_type": "stream",
          "name": "stderr",
          "text": [
            "\n"
          ]
        },
        {
          "output_type": "stream",
          "name": "stdout",
          "text": [
            "2023-12-27 23:17:02,721 removing temp file /tmp/tmpzb392hui\n"
          ]
        }
      ]
    },
    {
      "cell_type": "markdown",
      "source": [
        "# **--Document RNN Embeddings--**"
      ],
      "metadata": {
        "id": "EGggFJi_tEBD"
      },
      "id": "EGggFJi_tEBD"
    },
    {
      "cell_type": "code",
      "source": [
        "document_embeddings = DocumentRNNEmbeddings([word_embedding])"
      ],
      "metadata": {
        "id": "nqpuUDWut0-a"
      },
      "id": "nqpuUDWut0-a",
      "execution_count": null,
      "outputs": []
    },
    {
      "cell_type": "markdown",
      "source": [
        "# Cosine Similarity"
      ],
      "metadata": {
        "id": "lMMjjEKH3zbK"
      },
      "id": "lMMjjEKH3zbK"
    },
    {
      "cell_type": "code",
      "source": [
        "cos_sim_list=[]\n",
        "\n",
        "for idx, data in enumerate(combined_data):\n",
        "    source_text = data['source']\n",
        "    target_text = data['target']\n",
        "\n",
        "    source_sent = Sentence(source_text)\n",
        "    target_sent = Sentence(target_text)\n",
        "\n",
        "    document_embeddings.embed(source_sent)\n",
        "    document_embeddings.embed(target_sent)\n",
        "\n",
        "    source_embedding = source_sent.embedding.detach().cpu().numpy().reshape(1, -1)\n",
        "    target_embedding = target_sent.embedding.detach().cpu().numpy().reshape(1, -1)\n",
        "\n",
        "    cos_sim = cosine_similarity(source_embedding, target_embedding)[0][0]\n",
        "\n",
        "    cos_sim_list.append(cos_sim)\n",
        "\n",
        "    print(f\"Cosine Similarity between Source and Target in Row {idx+1}: {cos_sim}\")"
      ],
      "metadata": {
        "colab": {
          "base_uri": "https://localhost:8080/"
        },
        "id": "MnCjeYQVusj1",
        "outputId": "3ab393f9-8e7a-422e-9ba3-16a590a0adef"
      },
      "id": "MnCjeYQVusj1",
      "execution_count": null,
      "outputs": [
        {
          "output_type": "stream",
          "name": "stdout",
          "text": [
            "Cosine Similarity between Source and Target in Row 1: 0.8975616097450256\n",
            "Cosine Similarity between Source and Target in Row 2: 0.9435722827911377\n",
            "Cosine Similarity between Source and Target in Row 3: 0.4602947235107422\n",
            "Cosine Similarity between Source and Target in Row 4: 0.6252079010009766\n",
            "Cosine Similarity between Source and Target in Row 5: 0.6120266914367676\n",
            "Cosine Similarity between Source and Target in Row 6: 0.9695874452590942\n",
            "Cosine Similarity between Source and Target in Row 7: 0.47971686720848083\n",
            "Cosine Similarity between Source and Target in Row 8: 0.6304130554199219\n",
            "Cosine Similarity between Source and Target in Row 9: 0.48081648349761963\n",
            "Cosine Similarity between Source and Target in Row 10: 0.4597611427307129\n",
            "Cosine Similarity between Source and Target in Row 11: 0.3783896863460541\n",
            "Cosine Similarity between Source and Target in Row 12: 0.5724459290504456\n",
            "Cosine Similarity between Source and Target in Row 13: 0.5094338059425354\n",
            "Cosine Similarity between Source and Target in Row 14: 0.5355696678161621\n",
            "Cosine Similarity between Source and Target in Row 15: 0.5048443675041199\n",
            "Cosine Similarity between Source and Target in Row 16: 0.613778293132782\n",
            "Cosine Similarity between Source and Target in Row 17: 0.9383794665336609\n",
            "Cosine Similarity between Source and Target in Row 18: 0.5946370363235474\n",
            "Cosine Similarity between Source and Target in Row 19: 0.27341997623443604\n",
            "Cosine Similarity between Source and Target in Row 20: 0.473483145236969\n",
            "Cosine Similarity between Source and Target in Row 21: 0.6279834508895874\n",
            "Cosine Similarity between Source and Target in Row 22: 0.415629506111145\n",
            "Cosine Similarity between Source and Target in Row 23: 0.4596865773200989\n",
            "Cosine Similarity between Source and Target in Row 24: 0.4050535559654236\n",
            "Cosine Similarity between Source and Target in Row 25: 0.34342437982559204\n",
            "Cosine Similarity between Source and Target in Row 26: 0.4551963806152344\n",
            "Cosine Similarity between Source and Target in Row 27: 0.4801633954048157\n",
            "Cosine Similarity between Source and Target in Row 28: 0.46446067094802856\n",
            "Cosine Similarity between Source and Target in Row 29: 0.9965776801109314\n",
            "Cosine Similarity between Source and Target in Row 30: 0.9977532625198364\n",
            "Cosine Similarity between Source and Target in Row 31: 0.9977794885635376\n",
            "Cosine Similarity between Source and Target in Row 32: 0.5758564472198486\n",
            "Cosine Similarity between Source and Target in Row 33: 0.49080076813697815\n",
            "Cosine Similarity between Source and Target in Row 34: 0.4074343740940094\n",
            "Cosine Similarity between Source and Target in Row 35: 0.6078504920005798\n",
            "Cosine Similarity between Source and Target in Row 36: 0.2436833679676056\n",
            "Cosine Similarity between Source and Target in Row 37: 0.3534049391746521\n",
            "Cosine Similarity between Source and Target in Row 38: 0.5682733058929443\n",
            "Cosine Similarity between Source and Target in Row 39: 0.6228286027908325\n",
            "Cosine Similarity between Source and Target in Row 40: 0.5549535751342773\n",
            "Cosine Similarity between Source and Target in Row 41: 0.38795915246009827\n",
            "Cosine Similarity between Source and Target in Row 42: 0.9820327162742615\n",
            "Cosine Similarity between Source and Target in Row 43: 0.5737119913101196\n",
            "Cosine Similarity between Source and Target in Row 44: 0.5428969860076904\n",
            "Cosine Similarity between Source and Target in Row 45: 0.44669806957244873\n",
            "Cosine Similarity between Source and Target in Row 46: 0.6685935258865356\n",
            "Cosine Similarity between Source and Target in Row 47: 0.5863416790962219\n",
            "Cosine Similarity between Source and Target in Row 48: 0.5469585657119751\n",
            "Cosine Similarity between Source and Target in Row 49: 0.5593007206916809\n",
            "Cosine Similarity between Source and Target in Row 50: 0.9912208914756775\n",
            "Cosine Similarity between Source and Target in Row 51: 0.6113331913948059\n",
            "Cosine Similarity between Source and Target in Row 52: 0.5977234244346619\n",
            "Cosine Similarity between Source and Target in Row 53: 0.6838026642799377\n",
            "Cosine Similarity between Source and Target in Row 54: 0.9997227191925049\n",
            "Cosine Similarity between Source and Target in Row 55: 0.6407275795936584\n",
            "Cosine Similarity between Source and Target in Row 56: 0.4641861319541931\n",
            "Cosine Similarity between Source and Target in Row 57: 0.5500208139419556\n",
            "Cosine Similarity between Source and Target in Row 58: 0.5404200553894043\n",
            "Cosine Similarity between Source and Target in Row 59: 0.575002133846283\n",
            "Cosine Similarity between Source and Target in Row 60: 0.524154543876648\n",
            "Cosine Similarity between Source and Target in Row 61: 0.5182732939720154\n",
            "Cosine Similarity between Source and Target in Row 62: 0.9813781976699829\n",
            "Cosine Similarity between Source and Target in Row 63: 0.6855777502059937\n",
            "Cosine Similarity between Source and Target in Row 64: 0.5839571356773376\n",
            "Cosine Similarity between Source and Target in Row 65: 0.38301193714141846\n",
            "Cosine Similarity between Source and Target in Row 66: 0.26007363200187683\n",
            "Cosine Similarity between Source and Target in Row 67: 0.6795912981033325\n",
            "Cosine Similarity between Source and Target in Row 68: 0.6408646106719971\n",
            "Cosine Similarity between Source and Target in Row 69: 0.4295676350593567\n",
            "Cosine Similarity between Source and Target in Row 70: 0.6354711055755615\n",
            "Cosine Similarity between Source and Target in Row 71: 0.5458375215530396\n",
            "Cosine Similarity between Source and Target in Row 72: 0.5571162104606628\n",
            "Cosine Similarity between Source and Target in Row 73: 0.4387749135494232\n",
            "Cosine Similarity between Source and Target in Row 74: 0.4652087688446045\n",
            "Cosine Similarity between Source and Target in Row 75: 0.48374703526496887\n",
            "Cosine Similarity between Source and Target in Row 76: 0.9817148447036743\n",
            "Cosine Similarity between Source and Target in Row 77: 0.9001510739326477\n",
            "Cosine Similarity between Source and Target in Row 78: 0.5347598195075989\n",
            "Cosine Similarity between Source and Target in Row 79: 0.8039460182189941\n",
            "Cosine Similarity between Source and Target in Row 80: 0.3218090236186981\n",
            "Cosine Similarity between Source and Target in Row 81: 0.510688066482544\n",
            "Cosine Similarity between Source and Target in Row 82: 0.5234377384185791\n",
            "Cosine Similarity between Source and Target in Row 83: 0.403822124004364\n",
            "Cosine Similarity between Source and Target in Row 84: 0.3955157995223999\n",
            "Cosine Similarity between Source and Target in Row 85: 0.46867677569389343\n",
            "Cosine Similarity between Source and Target in Row 86: 0.6254303455352783\n",
            "Cosine Similarity between Source and Target in Row 87: 0.6246503591537476\n",
            "Cosine Similarity between Source and Target in Row 88: 0.41876479983329773\n",
            "Cosine Similarity between Source and Target in Row 89: 0.5135411024093628\n",
            "Cosine Similarity between Source and Target in Row 90: 0.579251766204834\n",
            "Cosine Similarity between Source and Target in Row 91: 0.48049667477607727\n",
            "Cosine Similarity between Source and Target in Row 92: 0.36902856826782227\n",
            "Cosine Similarity between Source and Target in Row 93: 0.6685167551040649\n",
            "Cosine Similarity between Source and Target in Row 94: 0.5785161256790161\n",
            "Cosine Similarity between Source and Target in Row 95: 0.3613396883010864\n",
            "Cosine Similarity between Source and Target in Row 96: 0.5687904357910156\n",
            "Cosine Similarity between Source and Target in Row 97: 0.4697275757789612\n",
            "Cosine Similarity between Source and Target in Row 98: 0.6051393151283264\n",
            "Cosine Similarity between Source and Target in Row 99: 0.5441316366195679\n",
            "Cosine Similarity between Source and Target in Row 100: 0.7533328533172607\n",
            "Cosine Similarity between Source and Target in Row 101: 0.6661697626113892\n",
            "Cosine Similarity between Source and Target in Row 102: 0.3899945914745331\n",
            "Cosine Similarity between Source and Target in Row 103: 0.426369309425354\n",
            "Cosine Similarity between Source and Target in Row 104: 0.5888237357139587\n",
            "Cosine Similarity between Source and Target in Row 105: 0.4766763150691986\n",
            "Cosine Similarity between Source and Target in Row 106: 0.40541261434555054\n",
            "Cosine Similarity between Source and Target in Row 107: 0.44081151485443115\n",
            "Cosine Similarity between Source and Target in Row 108: 0.6009195446968079\n",
            "Cosine Similarity between Source and Target in Row 109: 0.6513824462890625\n",
            "Cosine Similarity between Source and Target in Row 110: 0.7297539710998535\n",
            "Cosine Similarity between Source and Target in Row 111: 0.5148050785064697\n",
            "Cosine Similarity between Source and Target in Row 112: 0.4265434443950653\n",
            "Cosine Similarity between Source and Target in Row 113: 0.8803092241287231\n",
            "Cosine Similarity between Source and Target in Row 114: 0.4418209493160248\n",
            "Cosine Similarity between Source and Target in Row 115: 0.476057767868042\n",
            "Cosine Similarity between Source and Target in Row 116: 0.4108427166938782\n",
            "Cosine Similarity between Source and Target in Row 117: 0.6034961342811584\n",
            "Cosine Similarity between Source and Target in Row 118: 0.7021150588989258\n",
            "Cosine Similarity between Source and Target in Row 119: 0.5963531732559204\n",
            "Cosine Similarity between Source and Target in Row 120: 0.8983914256095886\n",
            "Cosine Similarity between Source and Target in Row 121: 0.6614474058151245\n",
            "Cosine Similarity between Source and Target in Row 122: 0.6618669629096985\n",
            "Cosine Similarity between Source and Target in Row 123: 0.6665230989456177\n",
            "Cosine Similarity between Source and Target in Row 124: 1.0\n",
            "Cosine Similarity between Source and Target in Row 125: 0.5405992865562439\n",
            "Cosine Similarity between Source and Target in Row 126: 0.9934468865394592\n",
            "Cosine Similarity between Source and Target in Row 127: 0.6053071022033691\n",
            "Cosine Similarity between Source and Target in Row 128: 0.4532248079776764\n",
            "Cosine Similarity between Source and Target in Row 129: 0.5775043964385986\n",
            "Cosine Similarity between Source and Target in Row 130: 0.638622522354126\n",
            "Cosine Similarity between Source and Target in Row 131: 0.4766092300415039\n",
            "Cosine Similarity between Source and Target in Row 132: 0.3890271782875061\n",
            "Cosine Similarity between Source and Target in Row 133: 0.5466602444648743\n",
            "Cosine Similarity between Source and Target in Row 134: 0.48192861676216125\n",
            "Cosine Similarity between Source and Target in Row 135: 0.45603370666503906\n",
            "Cosine Similarity between Source and Target in Row 136: 0.4196290969848633\n",
            "Cosine Similarity between Source and Target in Row 137: 0.5315285921096802\n",
            "Cosine Similarity between Source and Target in Row 138: 0.5268740653991699\n"
          ]
        }
      ]
    },
    {
      "cell_type": "markdown",
      "source": [
        "# Spearman Correlation"
      ],
      "metadata": {
        "id": "GslnAnRtvL_E"
      },
      "id": "GslnAnRtvL_E"
    },
    {
      "cell_type": "code",
      "source": [
        "from scipy.stats import spearmanr"
      ],
      "metadata": {
        "id": "l1_7srV0vOlt"
      },
      "id": "l1_7srV0vOlt",
      "execution_count": null,
      "outputs": []
    },
    {
      "cell_type": "code",
      "source": [
        "spearman_corr_rnn_em_word_em, spearman_p_value_rnn_em_word_em = spearmanr(cos_sim_list, relevance_degree)"
      ],
      "metadata": {
        "id": "b1bzeOyyvOtl"
      },
      "id": "b1bzeOyyvOtl",
      "execution_count": null,
      "outputs": []
    },
    {
      "cell_type": "code",
      "source": [
        "spearman_corr_rnn_em_word_em"
      ],
      "metadata": {
        "colab": {
          "base_uri": "https://localhost:8080/"
        },
        "id": "OIkGLYuVvO4A",
        "outputId": "3cfdbae6-a75d-4534-9e22-4da55d3ac6ed"
      },
      "id": "OIkGLYuVvO4A",
      "execution_count": null,
      "outputs": [
        {
          "output_type": "execute_result",
          "data": {
            "text/plain": [
              "0.2681354835765459"
            ]
          },
          "metadata": {},
          "execution_count": 58
        }
      ]
    },
    {
      "cell_type": "code",
      "source": [
        "spearman_p_value_rnn_em_word_em"
      ],
      "metadata": {
        "colab": {
          "base_uri": "https://localhost:8080/"
        },
        "id": "wBA86pYzvoMb",
        "outputId": "3ece64e7-c9e2-41c1-9152-4dba05621135"
      },
      "id": "wBA86pYzvoMb",
      "execution_count": null,
      "outputs": [
        {
          "output_type": "execute_result",
          "data": {
            "text/plain": [
              "0.001474469725018007"
            ]
          },
          "metadata": {},
          "execution_count": 59
        }
      ]
    },
    {
      "cell_type": "markdown",
      "source": [
        "# Pearson Correlation"
      ],
      "metadata": {
        "id": "VSo5fuc6viGM"
      },
      "id": "VSo5fuc6viGM"
    },
    {
      "cell_type": "code",
      "source": [
        "from scipy.stats import pearsonr"
      ],
      "metadata": {
        "id": "Gsqvffhn2VXg"
      },
      "id": "Gsqvffhn2VXg",
      "execution_count": null,
      "outputs": []
    },
    {
      "cell_type": "code",
      "source": [
        "pearson_corr_rnn_em_word_em, pearson_p_value_rnn_em_word_em = pearsonr(cos_sim_list, relevance_degree)"
      ],
      "metadata": {
        "id": "3nqmae1J2YqG"
      },
      "id": "3nqmae1J2YqG",
      "execution_count": null,
      "outputs": []
    },
    {
      "cell_type": "code",
      "source": [
        "pearson_corr_rnn_em_word_em"
      ],
      "metadata": {
        "colab": {
          "base_uri": "https://localhost:8080/"
        },
        "id": "inSGbOOE2ZtD",
        "outputId": "07f63a09-1e7c-49fa-c4f9-0f4687a7c0f3"
      },
      "id": "inSGbOOE2ZtD",
      "execution_count": null,
      "outputs": [
        {
          "output_type": "execute_result",
          "data": {
            "text/plain": [
              "0.3173468444538321"
            ]
          },
          "metadata": {},
          "execution_count": 61
        }
      ]
    },
    {
      "cell_type": "code",
      "source": [
        "pearson_p_value_rnn_em_word_em"
      ],
      "metadata": {
        "colab": {
          "base_uri": "https://localhost:8080/"
        },
        "id": "6UbnXbSX2Zzz",
        "outputId": "15ab4759-43bc-44cf-af78-2c1f2235fe80"
      },
      "id": "6UbnXbSX2Zzz",
      "execution_count": null,
      "outputs": [
        {
          "output_type": "execute_result",
          "data": {
            "text/plain": [
              "0.00014908678778519102"
            ]
          },
          "metadata": {},
          "execution_count": 62
        }
      ]
    },
    {
      "cell_type": "markdown",
      "source": [
        "# **--Document Pool Embeddings--**"
      ],
      "metadata": {
        "id": "TuyUMnX72uAm"
      },
      "id": "TuyUMnX72uAm"
    },
    {
      "cell_type": "code",
      "source": [
        "document_embeddings = DocumentPoolEmbeddings([word_embedding])"
      ],
      "metadata": {
        "id": "4839RU1e2vNR"
      },
      "id": "4839RU1e2vNR",
      "execution_count": null,
      "outputs": []
    },
    {
      "cell_type": "markdown",
      "source": [
        "# Cosine Similarity"
      ],
      "metadata": {
        "id": "zsgjZQTe4DOy"
      },
      "id": "zsgjZQTe4DOy"
    },
    {
      "cell_type": "code",
      "source": [
        "cos_sim_list=[]\n",
        "\n",
        "for idx, data in enumerate(combined_data):\n",
        "    source_text = data['source']\n",
        "    target_text = data['target']\n",
        "\n",
        "    source_sent = Sentence(source_text)\n",
        "    target_sent = Sentence(target_text)\n",
        "\n",
        "    document_embeddings.embed(source_sent)\n",
        "    document_embeddings.embed(target_sent)\n",
        "\n",
        "    source_embedding = source_sent.embedding.detach().cpu().numpy().reshape(1, -1)\n",
        "    target_embedding = target_sent.embedding.detach().cpu().numpy().reshape(1, -1)\n",
        "\n",
        "    cos_sim = cosine_similarity(source_embedding, target_embedding)[0][0]\n",
        "\n",
        "    cos_sim_list.append(cos_sim)\n",
        "\n",
        "    print(f\"Cosine Similarity between Source and Target in Row {idx+1}: {cos_sim}\")"
      ],
      "metadata": {
        "colab": {
          "base_uri": "https://localhost:8080/"
        },
        "id": "4qQ6FLuX2sy_",
        "outputId": "80911d3f-0369-41c6-a49e-b7fec9826062"
      },
      "id": "4qQ6FLuX2sy_",
      "execution_count": null,
      "outputs": [
        {
          "output_type": "stream",
          "name": "stdout",
          "text": [
            "Cosine Similarity between Source and Target in Row 1: 0.6650543212890625\n",
            "Cosine Similarity between Source and Target in Row 2: 0.8418413996696472\n",
            "Cosine Similarity between Source and Target in Row 3: 0.5785678029060364\n",
            "Cosine Similarity between Source and Target in Row 4: 0.6576279997825623\n",
            "Cosine Similarity between Source and Target in Row 5: 0.587131679058075\n",
            "Cosine Similarity between Source and Target in Row 6: 0.8117908835411072\n",
            "Cosine Similarity between Source and Target in Row 7: 0.5267645716667175\n",
            "Cosine Similarity between Source and Target in Row 8: 0.6614667177200317\n",
            "Cosine Similarity between Source and Target in Row 9: 0.5264279842376709\n",
            "Cosine Similarity between Source and Target in Row 10: 0.6599310636520386\n",
            "Cosine Similarity between Source and Target in Row 11: 0.8091826438903809\n",
            "Cosine Similarity between Source and Target in Row 12: 0.7799606323242188\n",
            "Cosine Similarity between Source and Target in Row 13: 0.6397218108177185\n",
            "Cosine Similarity between Source and Target in Row 14: 0.5901107788085938\n",
            "Cosine Similarity between Source and Target in Row 15: 0.5532613396644592\n",
            "Cosine Similarity between Source and Target in Row 16: 0.6063157320022583\n",
            "Cosine Similarity between Source and Target in Row 17: 0.7962877154350281\n",
            "Cosine Similarity between Source and Target in Row 18: 0.612780749797821\n",
            "Cosine Similarity between Source and Target in Row 19: 0.35689184069633484\n",
            "Cosine Similarity between Source and Target in Row 20: 0.7103939652442932\n",
            "Cosine Similarity between Source and Target in Row 21: 0.7969486713409424\n",
            "Cosine Similarity between Source and Target in Row 22: 0.47777697443962097\n",
            "Cosine Similarity between Source and Target in Row 23: 0.5836430788040161\n",
            "Cosine Similarity between Source and Target in Row 24: 0.6452351212501526\n",
            "Cosine Similarity between Source and Target in Row 25: 0.4290061593055725\n",
            "Cosine Similarity between Source and Target in Row 26: 0.7511120438575745\n",
            "Cosine Similarity between Source and Target in Row 27: 0.779994547367096\n",
            "Cosine Similarity between Source and Target in Row 28: 0.6122865676879883\n",
            "Cosine Similarity between Source and Target in Row 29: 0.8145655393600464\n",
            "Cosine Similarity between Source and Target in Row 30: 0.8653889894485474\n",
            "Cosine Similarity between Source and Target in Row 31: 0.8821195363998413\n",
            "Cosine Similarity between Source and Target in Row 32: 0.5840747952461243\n",
            "Cosine Similarity between Source and Target in Row 33: 0.5142226219177246\n",
            "Cosine Similarity between Source and Target in Row 34: 0.40234413743019104\n",
            "Cosine Similarity between Source and Target in Row 35: 0.7427595257759094\n",
            "Cosine Similarity between Source and Target in Row 36: 0.5704026818275452\n",
            "Cosine Similarity between Source and Target in Row 37: 0.7741140127182007\n",
            "Cosine Similarity between Source and Target in Row 38: 0.7185553312301636\n",
            "Cosine Similarity between Source and Target in Row 39: 0.7788769006729126\n",
            "Cosine Similarity between Source and Target in Row 40: 0.7232635617256165\n",
            "Cosine Similarity between Source and Target in Row 41: 0.6036823987960815\n",
            "Cosine Similarity between Source and Target in Row 42: 0.7791343927383423\n",
            "Cosine Similarity between Source and Target in Row 43: 0.5085809230804443\n",
            "Cosine Similarity between Source and Target in Row 44: 0.6503818035125732\n",
            "Cosine Similarity between Source and Target in Row 45: 0.7304995656013489\n",
            "Cosine Similarity between Source and Target in Row 46: 0.8848710060119629\n",
            "Cosine Similarity between Source and Target in Row 47: 0.8196814656257629\n",
            "Cosine Similarity between Source and Target in Row 48: 0.7569678425788879\n",
            "Cosine Similarity between Source and Target in Row 49: 0.7890101075172424\n",
            "Cosine Similarity between Source and Target in Row 50: 0.8020151257514954\n",
            "Cosine Similarity between Source and Target in Row 51: 0.7559020519256592\n",
            "Cosine Similarity between Source and Target in Row 52: 0.7936659455299377\n",
            "Cosine Similarity between Source and Target in Row 53: 0.6595852375030518\n",
            "Cosine Similarity between Source and Target in Row 54: 0.9387684464454651\n",
            "Cosine Similarity between Source and Target in Row 55: 0.7281485795974731\n",
            "Cosine Similarity between Source and Target in Row 56: 0.7047304511070251\n",
            "Cosine Similarity between Source and Target in Row 57: 0.6805977821350098\n",
            "Cosine Similarity between Source and Target in Row 58: 0.748080849647522\n",
            "Cosine Similarity between Source and Target in Row 59: 0.6244466304779053\n",
            "Cosine Similarity between Source and Target in Row 60: 0.7117687463760376\n",
            "Cosine Similarity between Source and Target in Row 61: 0.6389679908752441\n",
            "Cosine Similarity between Source and Target in Row 62: 0.9125862121582031\n",
            "Cosine Similarity between Source and Target in Row 63: 0.5404051542282104\n",
            "Cosine Similarity between Source and Target in Row 64: 0.6954395174980164\n",
            "Cosine Similarity between Source and Target in Row 65: 0.5926179885864258\n",
            "Cosine Similarity between Source and Target in Row 66: 0.5581918358802795\n",
            "Cosine Similarity between Source and Target in Row 67: 0.7737846374511719\n",
            "Cosine Similarity between Source and Target in Row 68: 0.8190407156944275\n",
            "Cosine Similarity between Source and Target in Row 69: 0.7041336297988892\n",
            "Cosine Similarity between Source and Target in Row 70: 0.819008469581604\n",
            "Cosine Similarity between Source and Target in Row 71: 0.8536145091056824\n",
            "Cosine Similarity between Source and Target in Row 72: 0.8293375372886658\n",
            "Cosine Similarity between Source and Target in Row 73: 0.6597692966461182\n",
            "Cosine Similarity between Source and Target in Row 74: 0.6724762916564941\n",
            "Cosine Similarity between Source and Target in Row 75: 0.6843254566192627\n",
            "Cosine Similarity between Source and Target in Row 76: 0.7772430777549744\n",
            "Cosine Similarity between Source and Target in Row 77: 0.7007649540901184\n",
            "Cosine Similarity between Source and Target in Row 78: 0.7907645106315613\n",
            "Cosine Similarity between Source and Target in Row 79: 0.973504364490509\n",
            "Cosine Similarity between Source and Target in Row 80: 0.5507017374038696\n",
            "Cosine Similarity between Source and Target in Row 81: 0.709599494934082\n",
            "Cosine Similarity between Source and Target in Row 82: 0.6402517557144165\n",
            "Cosine Similarity between Source and Target in Row 83: 0.5606369972229004\n",
            "Cosine Similarity between Source and Target in Row 84: 0.49808526039123535\n",
            "Cosine Similarity between Source and Target in Row 85: 0.6752443313598633\n",
            "Cosine Similarity between Source and Target in Row 86: 0.5274403691291809\n",
            "Cosine Similarity between Source and Target in Row 87: 0.6227380633354187\n",
            "Cosine Similarity between Source and Target in Row 88: 0.5688444375991821\n",
            "Cosine Similarity between Source and Target in Row 89: 0.6182457208633423\n",
            "Cosine Similarity between Source and Target in Row 90: 0.64642733335495\n",
            "Cosine Similarity between Source and Target in Row 91: 0.6593004465103149\n",
            "Cosine Similarity between Source and Target in Row 92: 0.6476285457611084\n",
            "Cosine Similarity between Source and Target in Row 93: 0.689544141292572\n",
            "Cosine Similarity between Source and Target in Row 94: 0.5460870265960693\n",
            "Cosine Similarity between Source and Target in Row 95: 0.36176303029060364\n",
            "Cosine Similarity between Source and Target in Row 96: 0.6924842596054077\n",
            "Cosine Similarity between Source and Target in Row 97: 0.6860775947570801\n",
            "Cosine Similarity between Source and Target in Row 98: 0.6471097469329834\n",
            "Cosine Similarity between Source and Target in Row 99: 0.7384899854660034\n",
            "Cosine Similarity between Source and Target in Row 100: 0.8471034169197083\n",
            "Cosine Similarity between Source and Target in Row 101: 0.7737551927566528\n",
            "Cosine Similarity between Source and Target in Row 102: 0.690299928188324\n",
            "Cosine Similarity between Source and Target in Row 103: 0.8246046900749207\n",
            "Cosine Similarity between Source and Target in Row 104: 0.7333070039749146\n",
            "Cosine Similarity between Source and Target in Row 105: 0.6763067245483398\n",
            "Cosine Similarity between Source and Target in Row 106: 0.6496714353561401\n",
            "Cosine Similarity between Source and Target in Row 107: 0.6771827936172485\n",
            "Cosine Similarity between Source and Target in Row 108: 0.7120134830474854\n",
            "Cosine Similarity between Source and Target in Row 109: 0.7529522180557251\n",
            "Cosine Similarity between Source and Target in Row 110: 0.7402644753456116\n",
            "Cosine Similarity between Source and Target in Row 111: 0.847093403339386\n",
            "Cosine Similarity between Source and Target in Row 112: 0.6849564909934998\n",
            "Cosine Similarity between Source and Target in Row 113: 0.5961000323295593\n",
            "Cosine Similarity between Source and Target in Row 114: 0.5721640586853027\n",
            "Cosine Similarity between Source and Target in Row 115: 0.7884098887443542\n",
            "Cosine Similarity between Source and Target in Row 116: 0.7348377704620361\n",
            "Cosine Similarity between Source and Target in Row 117: 0.704214334487915\n",
            "Cosine Similarity between Source and Target in Row 118: 0.8285781741142273\n",
            "Cosine Similarity between Source and Target in Row 119: 0.5774253010749817\n",
            "Cosine Similarity between Source and Target in Row 120: 0.8010364174842834\n",
            "Cosine Similarity between Source and Target in Row 121: 0.8496772050857544\n",
            "Cosine Similarity between Source and Target in Row 122: 0.6665525436401367\n",
            "Cosine Similarity between Source and Target in Row 123: 0.8148236274719238\n",
            "Cosine Similarity between Source and Target in Row 124: 1.0\n",
            "Cosine Similarity between Source and Target in Row 125: 0.6349806785583496\n",
            "Cosine Similarity between Source and Target in Row 126: 0.9433420300483704\n",
            "Cosine Similarity between Source and Target in Row 127: 0.6524403691291809\n",
            "Cosine Similarity between Source and Target in Row 128: 0.4163735806941986\n",
            "Cosine Similarity between Source and Target in Row 129: 0.5156571269035339\n",
            "Cosine Similarity between Source and Target in Row 130: 0.7231845855712891\n",
            "Cosine Similarity between Source and Target in Row 131: 0.6644958853721619\n",
            "Cosine Similarity between Source and Target in Row 132: 0.7523462176322937\n",
            "Cosine Similarity between Source and Target in Row 133: 0.5798407196998596\n",
            "Cosine Similarity between Source and Target in Row 134: 0.6457699537277222\n",
            "Cosine Similarity between Source and Target in Row 135: 0.6214789152145386\n",
            "Cosine Similarity between Source and Target in Row 136: 0.4334222376346588\n",
            "Cosine Similarity between Source and Target in Row 137: 0.6628251671791077\n",
            "Cosine Similarity between Source and Target in Row 138: 0.7646333575248718\n"
          ]
        }
      ]
    },
    {
      "cell_type": "markdown",
      "source": [
        "# Spearman Correlation"
      ],
      "metadata": {
        "id": "O7jSFRiF3D4Z"
      },
      "id": "O7jSFRiF3D4Z"
    },
    {
      "cell_type": "code",
      "source": [
        "spearman_corr_pool_em_word_em, spearman_p_value_pool_em_word_em = spearmanr(cos_sim_list, relevance_degree)"
      ],
      "metadata": {
        "id": "k4S8viEM3EUT"
      },
      "id": "k4S8viEM3EUT",
      "execution_count": null,
      "outputs": []
    },
    {
      "cell_type": "code",
      "source": [
        "spearman_corr_pool_em_word_em"
      ],
      "metadata": {
        "colab": {
          "base_uri": "https://localhost:8080/"
        },
        "id": "EZQvqhEr3Eaw",
        "outputId": "62e9d32d-6f63-40df-cba9-e38f340d3738"
      },
      "id": "EZQvqhEr3Eaw",
      "execution_count": null,
      "outputs": [
        {
          "output_type": "execute_result",
          "data": {
            "text/plain": [
              "0.476969195022053"
            ]
          },
          "metadata": {},
          "execution_count": 66
        }
      ]
    },
    {
      "cell_type": "code",
      "source": [
        "spearman_p_value_pool_em_word_em"
      ],
      "metadata": {
        "colab": {
          "base_uri": "https://localhost:8080/"
        },
        "id": "f5cttahH3Ehq",
        "outputId": "6be4fc90-5985-4fc2-b1be-5fff5f301284"
      },
      "id": "f5cttahH3Ehq",
      "execution_count": null,
      "outputs": [
        {
          "output_type": "execute_result",
          "data": {
            "text/plain": [
              "3.3334076390800993e-09"
            ]
          },
          "metadata": {},
          "execution_count": 67
        }
      ]
    },
    {
      "cell_type": "markdown",
      "source": [
        "# Pearson Correlation"
      ],
      "metadata": {
        "id": "9YuEJGRf3FE9"
      },
      "id": "9YuEJGRf3FE9"
    },
    {
      "cell_type": "code",
      "source": [
        "pearson_corr_pool_em_word_em, pearson_p_value_pool_em_word_em = pearsonr(cos_sim_list, relevance_degree)"
      ],
      "metadata": {
        "id": "6R152M9L3FkQ"
      },
      "id": "6R152M9L3FkQ",
      "execution_count": null,
      "outputs": []
    },
    {
      "cell_type": "code",
      "source": [
        "pearson_corr_pool_em_word_em"
      ],
      "metadata": {
        "colab": {
          "base_uri": "https://localhost:8080/"
        },
        "id": "haAoA66b3FqI",
        "outputId": "59ad01ce-2d71-4f48-feba-74d1386f20c7"
      },
      "id": "haAoA66b3FqI",
      "execution_count": null,
      "outputs": [
        {
          "output_type": "execute_result",
          "data": {
            "text/plain": [
              "0.4883402769242291"
            ]
          },
          "metadata": {},
          "execution_count": 69
        }
      ]
    },
    {
      "cell_type": "code",
      "source": [
        "pearson_p_value_pool_em_word_em"
      ],
      "metadata": {
        "colab": {
          "base_uri": "https://localhost:8080/"
        },
        "id": "c-WA6Fiv3FwX",
        "outputId": "e3c18dcd-06c1-4987-fb1b-df6d63b2018f"
      },
      "id": "c-WA6Fiv3FwX",
      "execution_count": null,
      "outputs": [
        {
          "output_type": "execute_result",
          "data": {
            "text/plain": [
              "1.2319483671913438e-09"
            ]
          },
          "metadata": {},
          "execution_count": 70
        }
      ]
    },
    {
      "cell_type": "markdown",
      "source": [
        "# **2-Flair Embeddings**"
      ],
      "metadata": {
        "id": "ML7YVTpAPh-F"
      },
      "id": "ML7YVTpAPh-F"
    },
    {
      "cell_type": "markdown",
      "source": [
        "# **--Document RNN Embeddings--**"
      ],
      "metadata": {
        "id": "VlGr030qP2sN"
      },
      "id": "VlGr030qP2sN"
    },
    {
      "cell_type": "code",
      "source": [
        "word_embedding = FlairEmbeddings('ar-forward')\n",
        "document_embeddings = DocumentRNNEmbeddings([word_embedding])"
      ],
      "metadata": {
        "colab": {
          "base_uri": "https://localhost:8080/"
        },
        "id": "a0widsp3PkSF",
        "outputId": "bad0556e-fd15-4898-d68a-8a46fe2146df"
      },
      "id": "a0widsp3PkSF",
      "execution_count": null,
      "outputs": [
        {
          "output_type": "stream",
          "name": "stdout",
          "text": [
            "2023-12-27 23:27:16,528 https://flair.informatik.hu-berlin.de/resources/embeddings/flair/lm-ar-opus-large-forward-v0.1.pt not found in cache, downloading to /tmp/tmpny82p_ao\n"
          ]
        },
        {
          "output_type": "stream",
          "name": "stderr",
          "text": [
            "100%|██████████| 126M/126M [00:06<00:00, 19.7MB/s]"
          ]
        },
        {
          "output_type": "stream",
          "name": "stdout",
          "text": [
            "2023-12-27 23:27:23,761 copying /tmp/tmpny82p_ao to cache at /root/.flair/embeddings/lm-ar-opus-large-forward-v0.1.pt\n"
          ]
        },
        {
          "output_type": "stream",
          "name": "stderr",
          "text": [
            "\n"
          ]
        },
        {
          "output_type": "stream",
          "name": "stdout",
          "text": [
            "2023-12-27 23:27:26,681 removing temp file /tmp/tmpny82p_ao\n"
          ]
        }
      ]
    },
    {
      "cell_type": "markdown",
      "source": [
        "# Cosine Similarity"
      ],
      "metadata": {
        "id": "kBXcziLJQVG_"
      },
      "id": "kBXcziLJQVG_"
    },
    {
      "cell_type": "code",
      "source": [
        "cos_sim_list=[]\n",
        "\n",
        "for idx, data in enumerate(combined_data):\n",
        "    source_text = data['source']\n",
        "    target_text = data['target']\n",
        "\n",
        "    source_sent = Sentence(source_text)\n",
        "    target_sent = Sentence(target_text)\n",
        "\n",
        "    document_embeddings.embed(source_sent)\n",
        "    document_embeddings.embed(target_sent)\n",
        "\n",
        "    source_embedding = source_sent.embedding.detach().cpu().numpy().reshape(1, -1)\n",
        "    target_embedding = target_sent.embedding.detach().cpu().numpy().reshape(1, -1)\n",
        "\n",
        "    cos_sim = cosine_similarity(source_embedding, target_embedding)[0][0]\n",
        "\n",
        "    cos_sim_list.append(cos_sim)\n",
        "\n",
        "    print(f\"Cosine Similarity between Source and Target in Row {idx+1}: {cos_sim}\")"
      ],
      "metadata": {
        "colab": {
          "base_uri": "https://localhost:8080/"
        },
        "id": "azjO-Cf4P9oG",
        "outputId": "ea871b4f-ec33-4b6b-ca99-4ce5e2d83897"
      },
      "id": "azjO-Cf4P9oG",
      "execution_count": null,
      "outputs": [
        {
          "output_type": "stream",
          "name": "stdout",
          "text": [
            "Cosine Similarity between Source and Target in Row 1: 0.5623555779457092\n",
            "Cosine Similarity between Source and Target in Row 2: 0.5329309701919556\n",
            "Cosine Similarity between Source and Target in Row 3: 0.33638009428977966\n",
            "Cosine Similarity between Source and Target in Row 4: 0.4988735318183899\n",
            "Cosine Similarity between Source and Target in Row 5: 0.5373060703277588\n",
            "Cosine Similarity between Source and Target in Row 6: 0.7493998408317566\n",
            "Cosine Similarity between Source and Target in Row 7: 0.32957160472869873\n",
            "Cosine Similarity between Source and Target in Row 8: 0.5096052885055542\n",
            "Cosine Similarity between Source and Target in Row 9: 0.5140527486801147\n",
            "Cosine Similarity between Source and Target in Row 10: 0.4805034101009369\n",
            "Cosine Similarity between Source and Target in Row 11: 0.5785606503486633\n",
            "Cosine Similarity between Source and Target in Row 12: 0.6972507238388062\n",
            "Cosine Similarity between Source and Target in Row 13: 0.5658740997314453\n",
            "Cosine Similarity between Source and Target in Row 14: 0.47809886932373047\n",
            "Cosine Similarity between Source and Target in Row 15: 0.6349535584449768\n",
            "Cosine Similarity between Source and Target in Row 16: 0.41121906042099\n",
            "Cosine Similarity between Source and Target in Row 17: 0.7374049425125122\n",
            "Cosine Similarity between Source and Target in Row 18: 0.3886898159980774\n",
            "Cosine Similarity between Source and Target in Row 19: 0.5978368520736694\n",
            "Cosine Similarity between Source and Target in Row 20: 0.5469963550567627\n",
            "Cosine Similarity between Source and Target in Row 21: 0.5209982991218567\n",
            "Cosine Similarity between Source and Target in Row 22: 0.24128787219524384\n",
            "Cosine Similarity between Source and Target in Row 23: 0.5586413741111755\n",
            "Cosine Similarity between Source and Target in Row 24: 0.49567490816116333\n",
            "Cosine Similarity between Source and Target in Row 25: 0.45724576711654663\n",
            "Cosine Similarity between Source and Target in Row 26: 0.532194197177887\n",
            "Cosine Similarity between Source and Target in Row 27: 0.4286593794822693\n",
            "Cosine Similarity between Source and Target in Row 28: 0.3230149745941162\n",
            "Cosine Similarity between Source and Target in Row 29: 0.848302960395813\n",
            "Cosine Similarity between Source and Target in Row 30: 0.8638045191764832\n",
            "Cosine Similarity between Source and Target in Row 31: 0.8574280738830566\n",
            "Cosine Similarity between Source and Target in Row 32: 0.45144715905189514\n",
            "Cosine Similarity between Source and Target in Row 33: 0.1978227198123932\n",
            "Cosine Similarity between Source and Target in Row 34: 0.37426602840423584\n",
            "Cosine Similarity between Source and Target in Row 35: 0.46754688024520874\n",
            "Cosine Similarity between Source and Target in Row 36: 0.4602891802787781\n",
            "Cosine Similarity between Source and Target in Row 37: 0.5632715225219727\n",
            "Cosine Similarity between Source and Target in Row 38: 0.6944625377655029\n",
            "Cosine Similarity between Source and Target in Row 39: 0.5527172088623047\n",
            "Cosine Similarity between Source and Target in Row 40: 0.4123419523239136\n",
            "Cosine Similarity between Source and Target in Row 41: 0.3497500717639923\n",
            "Cosine Similarity between Source and Target in Row 42: 0.9323210716247559\n",
            "Cosine Similarity between Source and Target in Row 43: 0.6295154094696045\n",
            "Cosine Similarity between Source and Target in Row 44: 0.42356279492378235\n",
            "Cosine Similarity between Source and Target in Row 45: 0.4411497712135315\n",
            "Cosine Similarity between Source and Target in Row 46: 0.5134093761444092\n",
            "Cosine Similarity between Source and Target in Row 47: 0.5065104961395264\n",
            "Cosine Similarity between Source and Target in Row 48: 0.43571531772613525\n",
            "Cosine Similarity between Source and Target in Row 49: 0.4882991313934326\n",
            "Cosine Similarity between Source and Target in Row 50: 0.9409769773483276\n",
            "Cosine Similarity between Source and Target in Row 51: 0.5082471966743469\n",
            "Cosine Similarity between Source and Target in Row 52: 0.8000900149345398\n",
            "Cosine Similarity between Source and Target in Row 53: 0.27050766348838806\n",
            "Cosine Similarity between Source and Target in Row 54: 0.9409259557723999\n",
            "Cosine Similarity between Source and Target in Row 55: 0.6622951030731201\n",
            "Cosine Similarity between Source and Target in Row 56: 0.5740870833396912\n",
            "Cosine Similarity between Source and Target in Row 57: 0.5894700884819031\n",
            "Cosine Similarity between Source and Target in Row 58: 0.6613932847976685\n",
            "Cosine Similarity between Source and Target in Row 59: 0.46564024686813354\n",
            "Cosine Similarity between Source and Target in Row 60: 0.5607271194458008\n",
            "Cosine Similarity between Source and Target in Row 61: 0.5087255835533142\n",
            "Cosine Similarity between Source and Target in Row 62: 0.851233720779419\n",
            "Cosine Similarity between Source and Target in Row 63: 0.43909502029418945\n",
            "Cosine Similarity between Source and Target in Row 64: 0.370073527097702\n",
            "Cosine Similarity between Source and Target in Row 65: 0.6596153974533081\n",
            "Cosine Similarity between Source and Target in Row 66: 0.6480922698974609\n",
            "Cosine Similarity between Source and Target in Row 67: 0.5566731691360474\n",
            "Cosine Similarity between Source and Target in Row 68: 0.4358653426170349\n",
            "Cosine Similarity between Source and Target in Row 69: 0.329894095659256\n",
            "Cosine Similarity between Source and Target in Row 70: 0.6385078430175781\n",
            "Cosine Similarity between Source and Target in Row 71: 0.4935669004917145\n",
            "Cosine Similarity between Source and Target in Row 72: 0.47765451669692993\n",
            "Cosine Similarity between Source and Target in Row 73: 0.5632707476615906\n",
            "Cosine Similarity between Source and Target in Row 74: 0.35928118228912354\n",
            "Cosine Similarity between Source and Target in Row 75: 0.4789959192276001\n",
            "Cosine Similarity between Source and Target in Row 76: 0.750769853591919\n",
            "Cosine Similarity between Source and Target in Row 77: 0.6612449884414673\n",
            "Cosine Similarity between Source and Target in Row 78: 0.628926694393158\n",
            "Cosine Similarity between Source and Target in Row 79: 0.7427318096160889\n",
            "Cosine Similarity between Source and Target in Row 80: 0.6350775957107544\n",
            "Cosine Similarity between Source and Target in Row 81: 0.65897536277771\n",
            "Cosine Similarity between Source and Target in Row 82: 0.4952858090400696\n",
            "Cosine Similarity between Source and Target in Row 83: 0.3708581328392029\n",
            "Cosine Similarity between Source and Target in Row 84: 0.5783424377441406\n",
            "Cosine Similarity between Source and Target in Row 85: 0.5395728349685669\n",
            "Cosine Similarity between Source and Target in Row 86: 0.2745448648929596\n",
            "Cosine Similarity between Source and Target in Row 87: 0.4468558430671692\n",
            "Cosine Similarity between Source and Target in Row 88: 0.49425533413887024\n",
            "Cosine Similarity between Source and Target in Row 89: 0.3175274431705475\n",
            "Cosine Similarity between Source and Target in Row 90: 0.5182170271873474\n",
            "Cosine Similarity between Source and Target in Row 91: 0.49412137269973755\n",
            "Cosine Similarity between Source and Target in Row 92: 0.6574218273162842\n",
            "Cosine Similarity between Source and Target in Row 93: 0.5770300626754761\n",
            "Cosine Similarity between Source and Target in Row 94: 0.4101504981517792\n",
            "Cosine Similarity between Source and Target in Row 95: 0.41326814889907837\n",
            "Cosine Similarity between Source and Target in Row 96: 0.6927556991577148\n",
            "Cosine Similarity between Source and Target in Row 97: 0.5902537107467651\n",
            "Cosine Similarity between Source and Target in Row 98: 0.42200174927711487\n",
            "Cosine Similarity between Source and Target in Row 99: 0.34897419810295105\n",
            "Cosine Similarity between Source and Target in Row 100: 0.7224621176719666\n",
            "Cosine Similarity between Source and Target in Row 101: 0.44860637187957764\n",
            "Cosine Similarity between Source and Target in Row 102: 0.6144396066665649\n",
            "Cosine Similarity between Source and Target in Row 103: 0.44592249393463135\n",
            "Cosine Similarity between Source and Target in Row 104: 0.5592431426048279\n",
            "Cosine Similarity between Source and Target in Row 105: 0.4767782688140869\n",
            "Cosine Similarity between Source and Target in Row 106: 0.5963231921195984\n",
            "Cosine Similarity between Source and Target in Row 107: 0.398878812789917\n",
            "Cosine Similarity between Source and Target in Row 108: 0.7261882424354553\n",
            "Cosine Similarity between Source and Target in Row 109: 0.6500332355499268\n",
            "Cosine Similarity between Source and Target in Row 110: 0.6509636640548706\n",
            "Cosine Similarity between Source and Target in Row 111: 0.5162129998207092\n",
            "Cosine Similarity between Source and Target in Row 112: 0.5173312425613403\n",
            "Cosine Similarity between Source and Target in Row 113: 0.7584778070449829\n",
            "Cosine Similarity between Source and Target in Row 114: 0.6252245306968689\n",
            "Cosine Similarity between Source and Target in Row 115: 0.4787116050720215\n",
            "Cosine Similarity between Source and Target in Row 116: 0.6467540264129639\n",
            "Cosine Similarity between Source and Target in Row 117: 0.7051997184753418\n",
            "Cosine Similarity between Source and Target in Row 118: 0.7988399267196655\n",
            "Cosine Similarity between Source and Target in Row 119: 0.6428302526473999\n",
            "Cosine Similarity between Source and Target in Row 120: 0.6596415042877197\n",
            "Cosine Similarity between Source and Target in Row 121: 0.765079140663147\n",
            "Cosine Similarity between Source and Target in Row 122: 0.6244326829910278\n",
            "Cosine Similarity between Source and Target in Row 123: 0.6879377365112305\n",
            "Cosine Similarity between Source and Target in Row 124: 1.0\n",
            "Cosine Similarity between Source and Target in Row 125: 0.4539823532104492\n",
            "Cosine Similarity between Source and Target in Row 126: 0.917682945728302\n",
            "Cosine Similarity between Source and Target in Row 127: 0.22230058908462524\n",
            "Cosine Similarity between Source and Target in Row 128: 0.16817384958267212\n",
            "Cosine Similarity between Source and Target in Row 129: 0.4058939516544342\n",
            "Cosine Similarity between Source and Target in Row 130: 0.5212862491607666\n",
            "Cosine Similarity between Source and Target in Row 131: 0.5482670068740845\n",
            "Cosine Similarity between Source and Target in Row 132: 0.4706209599971771\n",
            "Cosine Similarity between Source and Target in Row 133: 0.26757797598838806\n",
            "Cosine Similarity between Source and Target in Row 134: 0.5703407526016235\n",
            "Cosine Similarity between Source and Target in Row 135: 0.6130242943763733\n",
            "Cosine Similarity between Source and Target in Row 136: 0.5673964023590088\n",
            "Cosine Similarity between Source and Target in Row 137: 0.48418140411376953\n",
            "Cosine Similarity between Source and Target in Row 138: 0.7001693844795227\n"
          ]
        }
      ]
    },
    {
      "cell_type": "markdown",
      "source": [
        "# Spearman Correlation"
      ],
      "metadata": {
        "id": "FHQv3P1zQfwn"
      },
      "id": "FHQv3P1zQfwn"
    },
    {
      "cell_type": "code",
      "source": [
        "spearman_corr_rnn_em_flair_em, spearman_p_value_rnn_em_flair_em = spearmanr(cos_sim_list, relevance_degree)"
      ],
      "metadata": {
        "id": "2hxCk1uGQi7a"
      },
      "id": "2hxCk1uGQi7a",
      "execution_count": null,
      "outputs": []
    },
    {
      "cell_type": "code",
      "source": [
        "spearman_corr_rnn_em_flair_em"
      ],
      "metadata": {
        "colab": {
          "base_uri": "https://localhost:8080/"
        },
        "id": "T-YZ6aqVQjDv",
        "outputId": "34d2d5ea-64e6-4afd-94cc-029c418fe69c"
      },
      "id": "T-YZ6aqVQjDv",
      "execution_count": null,
      "outputs": [
        {
          "output_type": "execute_result",
          "data": {
            "text/plain": [
              "0.38237989412006157"
            ]
          },
          "metadata": {},
          "execution_count": 74
        }
      ]
    },
    {
      "cell_type": "code",
      "source": [
        "spearman_p_value_rnn_em_flair_em"
      ],
      "metadata": {
        "colab": {
          "base_uri": "https://localhost:8080/"
        },
        "id": "skPnznbTP94E",
        "outputId": "ebe5c464-e7e7-42d3-aa4d-aeacd63627b5"
      },
      "id": "skPnznbTP94E",
      "execution_count": null,
      "outputs": [
        {
          "output_type": "execute_result",
          "data": {
            "text/plain": [
              "3.6883185243644607e-06"
            ]
          },
          "metadata": {},
          "execution_count": 75
        }
      ]
    },
    {
      "cell_type": "markdown",
      "source": [
        "# Pearson Correlation"
      ],
      "metadata": {
        "id": "6SPg-4GiQkL8"
      },
      "id": "6SPg-4GiQkL8"
    },
    {
      "cell_type": "code",
      "source": [
        "pearson_corr_rnn_em_flair_em, pearson_p_value_rnn_em_flair_em = pearsonr(cos_sim_list, relevance_degree)"
      ],
      "metadata": {
        "id": "cUkP-50EQkZs"
      },
      "id": "cUkP-50EQkZs",
      "execution_count": null,
      "outputs": []
    },
    {
      "cell_type": "code",
      "source": [
        "pearson_corr_rnn_em_flair_em"
      ],
      "metadata": {
        "colab": {
          "base_uri": "https://localhost:8080/"
        },
        "id": "Bp7994O4Qkhs",
        "outputId": "c8a87cec-26e3-4e14-f9dd-64b9717458aa"
      },
      "id": "Bp7994O4Qkhs",
      "execution_count": null,
      "outputs": [
        {
          "output_type": "execute_result",
          "data": {
            "text/plain": [
              "0.42721622422551175"
            ]
          },
          "metadata": {},
          "execution_count": 77
        }
      ]
    },
    {
      "cell_type": "code",
      "source": [
        "pearson_p_value_rnn_em_flair_em"
      ],
      "metadata": {
        "colab": {
          "base_uri": "https://localhost:8080/"
        },
        "id": "Vy0pMKbHQkrg",
        "outputId": "4f02091b-16ce-4b94-d347-bc69702231fb"
      },
      "id": "Vy0pMKbHQkrg",
      "execution_count": null,
      "outputs": [
        {
          "output_type": "execute_result",
          "data": {
            "text/plain": [
              "1.7349290208910865e-07"
            ]
          },
          "metadata": {},
          "execution_count": 78
        }
      ]
    },
    {
      "cell_type": "markdown",
      "source": [
        "# **--Document Pool Embeddings--**"
      ],
      "metadata": {
        "id": "swXdDcSWRQ5e"
      },
      "id": "swXdDcSWRQ5e"
    },
    {
      "cell_type": "code",
      "source": [
        "document_embeddings = DocumentPoolEmbeddings([word_embedding])"
      ],
      "metadata": {
        "id": "Bt8XGwwxRRNB"
      },
      "id": "Bt8XGwwxRRNB",
      "execution_count": null,
      "outputs": []
    },
    {
      "cell_type": "markdown",
      "source": [
        "# Cosine Similarity"
      ],
      "metadata": {
        "id": "av3BSJDFSny1"
      },
      "id": "av3BSJDFSny1"
    },
    {
      "cell_type": "code",
      "source": [
        "cos_sim_list=[]\n",
        "\n",
        "for idx, data in enumerate(combined_data):\n",
        "    source_text = data['source']\n",
        "    target_text = data['target']\n",
        "\n",
        "    source_sent = Sentence(source_text)\n",
        "    target_sent = Sentence(target_text)\n",
        "\n",
        "    document_embeddings.embed(source_sent)\n",
        "    document_embeddings.embed(target_sent)\n",
        "\n",
        "    source_embedding = source_sent.embedding.detach().cpu().numpy().reshape(1, -1)\n",
        "    target_embedding = target_sent.embedding.detach().cpu().numpy().reshape(1, -1)\n",
        "\n",
        "    cos_sim = cosine_similarity(source_embedding, target_embedding)[0][0]\n",
        "\n",
        "    cos_sim_list.append(cos_sim)\n",
        "\n",
        "    print(f\"Cosine Similarity between Source and Target in Row {idx+1}: {cos_sim}\")"
      ],
      "metadata": {
        "colab": {
          "base_uri": "https://localhost:8080/"
        },
        "id": "DYVzk3iYRRYw",
        "outputId": "ad588b0e-cfe8-4f89-ccad-47f40d84d5d3"
      },
      "id": "DYVzk3iYRRYw",
      "execution_count": null,
      "outputs": [
        {
          "output_type": "stream",
          "name": "stdout",
          "text": [
            "Cosine Similarity between Source and Target in Row 1: 0.5036037564277649\n",
            "Cosine Similarity between Source and Target in Row 2: 0.5999515056610107\n",
            "Cosine Similarity between Source and Target in Row 3: 0.3773204982280731\n",
            "Cosine Similarity between Source and Target in Row 4: 0.575232982635498\n",
            "Cosine Similarity between Source and Target in Row 5: 0.42066800594329834\n",
            "Cosine Similarity between Source and Target in Row 6: 0.5184564590454102\n",
            "Cosine Similarity between Source and Target in Row 7: 0.3423394560813904\n",
            "Cosine Similarity between Source and Target in Row 8: 0.5880063772201538\n",
            "Cosine Similarity between Source and Target in Row 9: 0.43363112211227417\n",
            "Cosine Similarity between Source and Target in Row 10: 0.621039867401123\n",
            "Cosine Similarity between Source and Target in Row 11: 0.7537760734558105\n",
            "Cosine Similarity between Source and Target in Row 12: 0.6674314141273499\n",
            "Cosine Similarity between Source and Target in Row 13: 0.606897234916687\n",
            "Cosine Similarity between Source and Target in Row 14: 0.5750446319580078\n",
            "Cosine Similarity between Source and Target in Row 15: 0.667540967464447\n",
            "Cosine Similarity between Source and Target in Row 16: 0.3778112530708313\n",
            "Cosine Similarity between Source and Target in Row 17: 0.7407146692276001\n",
            "Cosine Similarity between Source and Target in Row 18: 0.4395759105682373\n",
            "Cosine Similarity between Source and Target in Row 19: 0.5718415975570679\n",
            "Cosine Similarity between Source and Target in Row 20: 0.5623974800109863\n",
            "Cosine Similarity between Source and Target in Row 21: 0.6800119876861572\n",
            "Cosine Similarity between Source and Target in Row 22: 0.24611566960811615\n",
            "Cosine Similarity between Source and Target in Row 23: 0.4863361418247223\n",
            "Cosine Similarity between Source and Target in Row 24: 0.5746047496795654\n",
            "Cosine Similarity between Source and Target in Row 25: 0.4192643165588379\n",
            "Cosine Similarity between Source and Target in Row 26: 0.6675857305526733\n",
            "Cosine Similarity between Source and Target in Row 27: 0.4979596734046936\n",
            "Cosine Similarity between Source and Target in Row 28: 0.3214639127254486\n",
            "Cosine Similarity between Source and Target in Row 29: 0.7556944489479065\n",
            "Cosine Similarity between Source and Target in Row 30: 0.6944289207458496\n",
            "Cosine Similarity between Source and Target in Row 31: 0.7031427025794983\n",
            "Cosine Similarity between Source and Target in Row 32: 0.4243755340576172\n",
            "Cosine Similarity between Source and Target in Row 33: 0.364337295293808\n",
            "Cosine Similarity between Source and Target in Row 34: 0.39755523204803467\n",
            "Cosine Similarity between Source and Target in Row 35: 0.5687427520751953\n",
            "Cosine Similarity between Source and Target in Row 36: 0.4915735125541687\n",
            "Cosine Similarity between Source and Target in Row 37: 0.743812084197998\n",
            "Cosine Similarity between Source and Target in Row 38: 0.6866700649261475\n",
            "Cosine Similarity between Source and Target in Row 39: 0.6167246103286743\n",
            "Cosine Similarity between Source and Target in Row 40: 0.6675601005554199\n",
            "Cosine Similarity between Source and Target in Row 41: 0.31791141629219055\n",
            "Cosine Similarity between Source and Target in Row 42: 0.650283932685852\n",
            "Cosine Similarity between Source and Target in Row 43: 0.5296519994735718\n",
            "Cosine Similarity between Source and Target in Row 44: 0.4256448447704315\n",
            "Cosine Similarity between Source and Target in Row 45: 0.5582209825515747\n",
            "Cosine Similarity between Source and Target in Row 46: 0.6282147169113159\n",
            "Cosine Similarity between Source and Target in Row 47: 0.6876679062843323\n",
            "Cosine Similarity between Source and Target in Row 48: 0.5990201830863953\n",
            "Cosine Similarity between Source and Target in Row 49: 0.6797052621841431\n",
            "Cosine Similarity between Source and Target in Row 50: 0.7122750282287598\n",
            "Cosine Similarity between Source and Target in Row 51: 0.48251181840896606\n",
            "Cosine Similarity between Source and Target in Row 52: 0.7318630218505859\n",
            "Cosine Similarity between Source and Target in Row 53: 0.4553176462650299\n",
            "Cosine Similarity between Source and Target in Row 54: 0.8480775356292725\n",
            "Cosine Similarity between Source and Target in Row 55: 0.7067716717720032\n",
            "Cosine Similarity between Source and Target in Row 56: 0.5410199165344238\n",
            "Cosine Similarity between Source and Target in Row 57: 0.6061349511146545\n",
            "Cosine Similarity between Source and Target in Row 58: 0.5925146341323853\n",
            "Cosine Similarity between Source and Target in Row 59: 0.40972763299942017\n",
            "Cosine Similarity between Source and Target in Row 60: 0.6605710387229919\n",
            "Cosine Similarity between Source and Target in Row 61: 0.5145561099052429\n",
            "Cosine Similarity between Source and Target in Row 62: 0.71532142162323\n",
            "Cosine Similarity between Source and Target in Row 63: 0.5362868309020996\n",
            "Cosine Similarity between Source and Target in Row 64: 0.5472115278244019\n",
            "Cosine Similarity between Source and Target in Row 65: 0.782747745513916\n",
            "Cosine Similarity between Source and Target in Row 66: 0.7433117628097534\n",
            "Cosine Similarity between Source and Target in Row 67: 0.5734020471572876\n",
            "Cosine Similarity between Source and Target in Row 68: 0.5961533784866333\n",
            "Cosine Similarity between Source and Target in Row 69: 0.5433608293533325\n",
            "Cosine Similarity between Source and Target in Row 70: 0.677399218082428\n",
            "Cosine Similarity between Source and Target in Row 71: 0.6317613124847412\n",
            "Cosine Similarity between Source and Target in Row 72: 0.6531778573989868\n",
            "Cosine Similarity between Source and Target in Row 73: 0.5067490339279175\n",
            "Cosine Similarity between Source and Target in Row 74: 0.6162698268890381\n",
            "Cosine Similarity between Source and Target in Row 75: 0.5964105129241943\n",
            "Cosine Similarity between Source and Target in Row 76: 0.5483881235122681\n",
            "Cosine Similarity between Source and Target in Row 77: 0.5755506753921509\n",
            "Cosine Similarity between Source and Target in Row 78: 0.7025324702262878\n",
            "Cosine Similarity between Source and Target in Row 79: 0.9633835554122925\n",
            "Cosine Similarity between Source and Target in Row 80: 0.4307573139667511\n",
            "Cosine Similarity between Source and Target in Row 81: 0.5944187641143799\n",
            "Cosine Similarity between Source and Target in Row 82: 0.45576220750808716\n",
            "Cosine Similarity between Source and Target in Row 83: 0.3703623414039612\n",
            "Cosine Similarity between Source and Target in Row 84: 0.4246036410331726\n",
            "Cosine Similarity between Source and Target in Row 85: 0.552177906036377\n",
            "Cosine Similarity between Source and Target in Row 86: 0.4256799817085266\n",
            "Cosine Similarity between Source and Target in Row 87: 0.5359206199645996\n",
            "Cosine Similarity between Source and Target in Row 88: 0.5303674340248108\n",
            "Cosine Similarity between Source and Target in Row 89: 0.43544232845306396\n",
            "Cosine Similarity between Source and Target in Row 90: 0.6384502053260803\n",
            "Cosine Similarity between Source and Target in Row 91: 0.6150835752487183\n",
            "Cosine Similarity between Source and Target in Row 92: 0.5836434960365295\n",
            "Cosine Similarity between Source and Target in Row 93: 0.5143165588378906\n",
            "Cosine Similarity between Source and Target in Row 94: 0.520426869392395\n",
            "Cosine Similarity between Source and Target in Row 95: 0.3540285527706146\n",
            "Cosine Similarity between Source and Target in Row 96: 0.6321197748184204\n",
            "Cosine Similarity between Source and Target in Row 97: 0.393067330121994\n",
            "Cosine Similarity between Source and Target in Row 98: 0.38351941108703613\n",
            "Cosine Similarity between Source and Target in Row 99: 0.5616234540939331\n",
            "Cosine Similarity between Source and Target in Row 100: 0.7321485280990601\n",
            "Cosine Similarity between Source and Target in Row 101: 0.4830895662307739\n",
            "Cosine Similarity between Source and Target in Row 102: 0.5385174751281738\n",
            "Cosine Similarity between Source and Target in Row 103: 0.6502366065979004\n",
            "Cosine Similarity between Source and Target in Row 104: 0.6290888786315918\n",
            "Cosine Similarity between Source and Target in Row 105: 0.522415280342102\n",
            "Cosine Similarity between Source and Target in Row 106: 0.522041916847229\n",
            "Cosine Similarity between Source and Target in Row 107: 0.556586503982544\n",
            "Cosine Similarity between Source and Target in Row 108: 0.8629836440086365\n",
            "Cosine Similarity between Source and Target in Row 109: 0.7230748534202576\n",
            "Cosine Similarity between Source and Target in Row 110: 0.5716158151626587\n",
            "Cosine Similarity between Source and Target in Row 111: 0.8366352915763855\n",
            "Cosine Similarity between Source and Target in Row 112: 0.48094233870506287\n",
            "Cosine Similarity between Source and Target in Row 113: 0.5770658254623413\n",
            "Cosine Similarity between Source and Target in Row 114: 0.6188750863075256\n",
            "Cosine Similarity between Source and Target in Row 115: 0.7302274107933044\n",
            "Cosine Similarity between Source and Target in Row 116: 0.664531946182251\n",
            "Cosine Similarity between Source and Target in Row 117: 0.6112391948699951\n",
            "Cosine Similarity between Source and Target in Row 118: 0.909904956817627\n",
            "Cosine Similarity between Source and Target in Row 119: 0.6854041814804077\n",
            "Cosine Similarity between Source and Target in Row 120: 0.5697096586227417\n",
            "Cosine Similarity between Source and Target in Row 121: 0.9046190977096558\n",
            "Cosine Similarity between Source and Target in Row 122: 0.5757087469100952\n",
            "Cosine Similarity between Source and Target in Row 123: 0.902809739112854\n",
            "Cosine Similarity between Source and Target in Row 124: 1.0000003576278687\n",
            "Cosine Similarity between Source and Target in Row 125: 0.5990562438964844\n",
            "Cosine Similarity between Source and Target in Row 126: 0.83223557472229\n",
            "Cosine Similarity between Source and Target in Row 127: 0.24403268098831177\n",
            "Cosine Similarity between Source and Target in Row 128: 0.26991432905197144\n",
            "Cosine Similarity between Source and Target in Row 129: 0.39187222719192505\n",
            "Cosine Similarity between Source and Target in Row 130: 0.5634340643882751\n",
            "Cosine Similarity between Source and Target in Row 131: 0.5641311407089233\n",
            "Cosine Similarity between Source and Target in Row 132: 0.4913023114204407\n",
            "Cosine Similarity between Source and Target in Row 133: 0.30283018946647644\n",
            "Cosine Similarity between Source and Target in Row 134: 0.4531569182872772\n",
            "Cosine Similarity between Source and Target in Row 135: 0.6214242577552795\n",
            "Cosine Similarity between Source and Target in Row 136: 0.39541754126548767\n",
            "Cosine Similarity between Source and Target in Row 137: 0.5833443403244019\n",
            "Cosine Similarity between Source and Target in Row 138: 0.5649116635322571\n"
          ]
        }
      ]
    },
    {
      "cell_type": "markdown",
      "source": [
        "# Spearman Correlation"
      ],
      "metadata": {
        "id": "P-uNDwPHToIV"
      },
      "id": "P-uNDwPHToIV"
    },
    {
      "cell_type": "code",
      "source": [
        "spearman_corr_pool_em_flair_em, spearman_p_value_pool_em_flair_em = spearmanr(cos_sim_list, relevance_degree)"
      ],
      "metadata": {
        "id": "iI--SBPNTmO2"
      },
      "id": "iI--SBPNTmO2",
      "execution_count": null,
      "outputs": []
    },
    {
      "cell_type": "code",
      "source": [
        "spearman_corr_pool_em_flair_em"
      ],
      "metadata": {
        "colab": {
          "base_uri": "https://localhost:8080/"
        },
        "id": "p-EnspDiTmaR",
        "outputId": "803717f5-c1c1-4c9e-b049-5d576f851e30"
      },
      "id": "p-EnspDiTmaR",
      "execution_count": null,
      "outputs": [
        {
          "output_type": "execute_result",
          "data": {
            "text/plain": [
              "0.4490224669371124"
            ]
          },
          "metadata": {},
          "execution_count": 82
        }
      ]
    },
    {
      "cell_type": "code",
      "source": [
        "spearman_p_value_pool_em_flair_em"
      ],
      "metadata": {
        "colab": {
          "base_uri": "https://localhost:8080/"
        },
        "id": "SYdLTYL3Tmeu",
        "outputId": "4e632024-2a79-432d-a836-d23bf4c0ccce"
      },
      "id": "SYdLTYL3Tmeu",
      "execution_count": null,
      "outputs": [
        {
          "output_type": "execute_result",
          "data": {
            "text/plain": [
              "3.316135757003764e-08"
            ]
          },
          "metadata": {},
          "execution_count": 83
        }
      ]
    },
    {
      "cell_type": "markdown",
      "source": [
        "# Pearson Correlation"
      ],
      "metadata": {
        "id": "cYnCDI6uT4B7"
      },
      "id": "cYnCDI6uT4B7"
    },
    {
      "cell_type": "code",
      "source": [
        "pearson_corr_pool_em_flair_em, pearson_p_value_pool_em_flair_em = pearsonr(cos_sim_list, relevance_degree)"
      ],
      "metadata": {
        "id": "XM0tlumkT4gT"
      },
      "id": "XM0tlumkT4gT",
      "execution_count": null,
      "outputs": []
    },
    {
      "cell_type": "code",
      "source": [
        "pearson_corr_pool_em_flair_em"
      ],
      "metadata": {
        "colab": {
          "base_uri": "https://localhost:8080/"
        },
        "id": "LXV4RrC2TmpL",
        "outputId": "0a5718b0-47c1-4031-fc94-4a6a3b834fd9"
      },
      "id": "LXV4RrC2TmpL",
      "execution_count": null,
      "outputs": [
        {
          "output_type": "execute_result",
          "data": {
            "text/plain": [
              "0.4708119279344554"
            ]
          },
          "metadata": {},
          "execution_count": 86
        }
      ]
    },
    {
      "cell_type": "code",
      "source": [
        "pearson_p_value_pool_em_flair_em"
      ],
      "metadata": {
        "colab": {
          "base_uri": "https://localhost:8080/"
        },
        "id": "4Zu2LBEpTmtQ",
        "outputId": "e2335352-2035-4edb-ebe1-4fa98e2db216"
      },
      "id": "4Zu2LBEpTmtQ",
      "execution_count": null,
      "outputs": [
        {
          "output_type": "execute_result",
          "data": {
            "text/plain": [
              "5.629401675954034e-09"
            ]
          },
          "metadata": {},
          "execution_count": 87
        }
      ]
    },
    {
      "cell_type": "markdown",
      "source": [
        "# **--Transformer Document Embeddings--**"
      ],
      "metadata": {
        "id": "A7jkI95wUQTq"
      },
      "id": "A7jkI95wUQTq"
    },
    {
      "cell_type": "code",
      "source": [
        "model_name = 'bert-base-multilingual-cased'\n",
        "document_embeddings = TransformerDocumentEmbeddings(model_name)\n"
      ],
      "metadata": {
        "id": "BUCScA_8UQh_"
      },
      "id": "BUCScA_8UQh_",
      "execution_count": null,
      "outputs": []
    },
    {
      "cell_type": "markdown",
      "source": [
        "# Cosine Similarity"
      ],
      "metadata": {
        "id": "gKgki02YURWk"
      },
      "id": "gKgki02YURWk"
    },
    {
      "cell_type": "code",
      "source": [
        "cos_sim_list = []\n",
        "\n",
        "for idx, data in enumerate(combined_data):\n",
        "    source_text = data['source']\n",
        "    target_text = data['target']\n",
        "\n",
        "    source_sent = Sentence(source_text)\n",
        "    target_sent = Sentence(target_text)\n",
        "\n",
        "    document_embeddings.embed(source_sent)\n",
        "    document_embeddings.embed(target_sent)\n",
        "\n",
        "    source_embedding = source_sent.get_embedding().cpu().numpy().reshape(1, -1)\n",
        "    target_embedding = target_sent.get_embedding().cpu().numpy().reshape(1, -1)\n",
        "\n",
        "    cos_sim = cosine_similarity(source_embedding, target_embedding)[0][0]\n",
        "\n",
        "    cos_sim_list.append(cos_sim)\n",
        "\n",
        "    print(f\"Cosine Similarity between Source and Target in Row {idx+1}: {cos_sim}\")\n"
      ],
      "metadata": {
        "colab": {
          "base_uri": "https://localhost:8080/"
        },
        "id": "AdN_EPbQUQ4e",
        "outputId": "f740e641-030f-4393-ef29-6903d8eeef79"
      },
      "id": "AdN_EPbQUQ4e",
      "execution_count": null,
      "outputs": [
        {
          "output_type": "stream",
          "name": "stdout",
          "text": [
            "Cosine Similarity between Source and Target in Row 1: 0.9280645251274109\n",
            "Cosine Similarity between Source and Target in Row 2: 0.8906566500663757\n",
            "Cosine Similarity between Source and Target in Row 3: 0.8991294503211975\n",
            "Cosine Similarity between Source and Target in Row 4: 0.9230535626411438\n",
            "Cosine Similarity between Source and Target in Row 5: 0.9098426103591919\n",
            "Cosine Similarity between Source and Target in Row 6: 0.8601900339126587\n",
            "Cosine Similarity between Source and Target in Row 7: 0.8749433159828186\n",
            "Cosine Similarity between Source and Target in Row 8: 0.9100892543792725\n",
            "Cosine Similarity between Source and Target in Row 9: 0.9104507565498352\n",
            "Cosine Similarity between Source and Target in Row 10: 0.9123592376708984\n",
            "Cosine Similarity between Source and Target in Row 11: 0.9813846945762634\n",
            "Cosine Similarity between Source and Target in Row 12: 0.9699865579605103\n",
            "Cosine Similarity between Source and Target in Row 13: 0.8879804611206055\n",
            "Cosine Similarity between Source and Target in Row 14: 0.9111480116844177\n",
            "Cosine Similarity between Source and Target in Row 15: 0.9224377870559692\n",
            "Cosine Similarity between Source and Target in Row 16: 0.9311439990997314\n",
            "Cosine Similarity between Source and Target in Row 17: 0.9420078992843628\n",
            "Cosine Similarity between Source and Target in Row 18: 0.9365127682685852\n",
            "Cosine Similarity between Source and Target in Row 19: 0.8419286012649536\n",
            "Cosine Similarity between Source and Target in Row 20: 0.9122228622436523\n",
            "Cosine Similarity between Source and Target in Row 21: 0.9658021330833435\n",
            "Cosine Similarity between Source and Target in Row 22: 0.8328019380569458\n",
            "Cosine Similarity between Source and Target in Row 23: 0.9172395467758179\n",
            "Cosine Similarity between Source and Target in Row 24: 0.8473242521286011\n",
            "Cosine Similarity between Source and Target in Row 25: 0.8892790079116821\n",
            "Cosine Similarity between Source and Target in Row 26: 0.8856159448623657\n",
            "Cosine Similarity between Source and Target in Row 27: 0.892818033695221\n",
            "Cosine Similarity between Source and Target in Row 28: 0.7468664050102234\n",
            "Cosine Similarity between Source and Target in Row 29: 0.9548854827880859\n",
            "Cosine Similarity between Source and Target in Row 30: 0.9643291234970093\n",
            "Cosine Similarity between Source and Target in Row 31: 0.96781986951828\n",
            "Cosine Similarity between Source and Target in Row 32: 0.9115797877311707\n",
            "Cosine Similarity between Source and Target in Row 33: 0.9073219299316406\n",
            "Cosine Similarity between Source and Target in Row 34: 0.9156111478805542\n",
            "Cosine Similarity between Source and Target in Row 35: 0.9360251426696777\n",
            "Cosine Similarity between Source and Target in Row 36: 0.9047895669937134\n",
            "Cosine Similarity between Source and Target in Row 37: 0.9388155937194824\n",
            "Cosine Similarity between Source and Target in Row 38: 0.9430093765258789\n",
            "Cosine Similarity between Source and Target in Row 39: 0.94525545835495\n",
            "Cosine Similarity between Source and Target in Row 40: 0.9192905426025391\n",
            "Cosine Similarity between Source and Target in Row 41: 0.9460484385490417\n",
            "Cosine Similarity between Source and Target in Row 42: 0.9641318917274475\n",
            "Cosine Similarity between Source and Target in Row 43: 0.9571362733840942\n",
            "Cosine Similarity between Source and Target in Row 44: 0.8674278259277344\n",
            "Cosine Similarity between Source and Target in Row 45: 0.9437962770462036\n",
            "Cosine Similarity between Source and Target in Row 46: 0.9424655437469482\n",
            "Cosine Similarity between Source and Target in Row 47: 0.9007927179336548\n",
            "Cosine Similarity between Source and Target in Row 48: 0.9311251640319824\n",
            "Cosine Similarity between Source and Target in Row 49: 0.9373278617858887\n",
            "Cosine Similarity between Source and Target in Row 50: 0.9676358699798584\n",
            "Cosine Similarity between Source and Target in Row 51: 0.9291257262229919\n",
            "Cosine Similarity between Source and Target in Row 52: 0.9521597623825073\n",
            "Cosine Similarity between Source and Target in Row 53: 0.8755092620849609\n",
            "Cosine Similarity between Source and Target in Row 54: 0.9875816106796265\n",
            "Cosine Similarity between Source and Target in Row 55: 0.9257032871246338\n",
            "Cosine Similarity between Source and Target in Row 56: 0.9363806247711182\n",
            "Cosine Similarity between Source and Target in Row 57: 0.9069821238517761\n",
            "Cosine Similarity between Source and Target in Row 58: 0.9045687317848206\n",
            "Cosine Similarity between Source and Target in Row 59: 0.8815968036651611\n",
            "Cosine Similarity between Source and Target in Row 60: 0.8762090802192688\n",
            "Cosine Similarity between Source and Target in Row 61: 0.9105442762374878\n",
            "Cosine Similarity between Source and Target in Row 62: 0.9674733877182007\n",
            "Cosine Similarity between Source and Target in Row 63: 0.8545509576797485\n",
            "Cosine Similarity between Source and Target in Row 64: 0.954010546207428\n",
            "Cosine Similarity between Source and Target in Row 65: 0.9455801248550415\n",
            "Cosine Similarity between Source and Target in Row 66: 0.9286140203475952\n",
            "Cosine Similarity between Source and Target in Row 67: 0.9504691958427429\n",
            "Cosine Similarity between Source and Target in Row 68: 0.9470570087432861\n",
            "Cosine Similarity between Source and Target in Row 69: 0.9171741604804993\n",
            "Cosine Similarity between Source and Target in Row 70: 0.9306762218475342\n",
            "Cosine Similarity between Source and Target in Row 71: 0.9464917182922363\n",
            "Cosine Similarity between Source and Target in Row 72: 0.9663279056549072\n",
            "Cosine Similarity between Source and Target in Row 73: 0.9160309433937073\n",
            "Cosine Similarity between Source and Target in Row 74: 0.9086621403694153\n",
            "Cosine Similarity between Source and Target in Row 75: 0.9337261915206909\n",
            "Cosine Similarity between Source and Target in Row 76: 0.9507263898849487\n",
            "Cosine Similarity between Source and Target in Row 77: 0.8710743188858032\n",
            "Cosine Similarity between Source and Target in Row 78: 0.9425510168075562\n",
            "Cosine Similarity between Source and Target in Row 79: 0.9630446434020996\n",
            "Cosine Similarity between Source and Target in Row 80: 0.9114099144935608\n",
            "Cosine Similarity between Source and Target in Row 81: 0.879123866558075\n",
            "Cosine Similarity between Source and Target in Row 82: 0.9184911251068115\n",
            "Cosine Similarity between Source and Target in Row 83: 0.8920007944107056\n",
            "Cosine Similarity between Source and Target in Row 84: 0.9361523389816284\n",
            "Cosine Similarity between Source and Target in Row 85: 0.954794704914093\n",
            "Cosine Similarity between Source and Target in Row 86: 0.9051241874694824\n",
            "Cosine Similarity between Source and Target in Row 87: 0.946401834487915\n",
            "Cosine Similarity between Source and Target in Row 88: 0.9051120281219482\n",
            "Cosine Similarity between Source and Target in Row 89: 0.8651717305183411\n",
            "Cosine Similarity between Source and Target in Row 90: 0.9203106164932251\n",
            "Cosine Similarity between Source and Target in Row 91: 0.946312427520752\n",
            "Cosine Similarity between Source and Target in Row 92: 0.8714513778686523\n",
            "Cosine Similarity between Source and Target in Row 93: 0.9152103662490845\n",
            "Cosine Similarity between Source and Target in Row 94: 0.904518187046051\n",
            "Cosine Similarity between Source and Target in Row 95: 0.8760830760002136\n",
            "Cosine Similarity between Source and Target in Row 96: 0.9361194372177124\n",
            "Cosine Similarity between Source and Target in Row 97: 0.8713140487670898\n",
            "Cosine Similarity between Source and Target in Row 98: 0.930564820766449\n",
            "Cosine Similarity between Source and Target in Row 99: 0.9497270584106445\n",
            "Cosine Similarity between Source and Target in Row 100: 0.9418690204620361\n",
            "Cosine Similarity between Source and Target in Row 101: 0.884752631187439\n",
            "Cosine Similarity between Source and Target in Row 102: 0.8984211683273315\n",
            "Cosine Similarity between Source and Target in Row 103: 0.9371562600135803\n",
            "Cosine Similarity between Source and Target in Row 104: 0.9352747201919556\n",
            "Cosine Similarity between Source and Target in Row 105: 0.9377011060714722\n",
            "Cosine Similarity between Source and Target in Row 106: 0.9485855102539062\n",
            "Cosine Similarity between Source and Target in Row 107: 0.9249848127365112\n",
            "Cosine Similarity between Source and Target in Row 108: 0.9463135600090027\n",
            "Cosine Similarity between Source and Target in Row 109: 0.9250485301017761\n",
            "Cosine Similarity between Source and Target in Row 110: 0.9023507833480835\n",
            "Cosine Similarity between Source and Target in Row 111: 0.9286016225814819\n",
            "Cosine Similarity between Source and Target in Row 112: 0.9395241141319275\n",
            "Cosine Similarity between Source and Target in Row 113: 0.9590369462966919\n",
            "Cosine Similarity between Source and Target in Row 114: 0.8815669417381287\n",
            "Cosine Similarity between Source and Target in Row 115: 0.9354102611541748\n",
            "Cosine Similarity between Source and Target in Row 116: 0.9567221403121948\n",
            "Cosine Similarity between Source and Target in Row 117: 0.9524174928665161\n",
            "Cosine Similarity between Source and Target in Row 118: 0.9845319986343384\n",
            "Cosine Similarity between Source and Target in Row 119: 0.9764402508735657\n",
            "Cosine Similarity between Source and Target in Row 120: 0.9466381669044495\n",
            "Cosine Similarity between Source and Target in Row 121: 0.9779337644577026\n",
            "Cosine Similarity between Source and Target in Row 122: 0.9703667163848877\n",
            "Cosine Similarity between Source and Target in Row 123: 0.9198451042175293\n",
            "Cosine Similarity between Source and Target in Row 124: 1.0000001192092896\n",
            "Cosine Similarity between Source and Target in Row 125: 0.9131597280502319\n",
            "Cosine Similarity between Source and Target in Row 126: 0.9767326712608337\n",
            "Cosine Similarity between Source and Target in Row 127: 0.9299078583717346\n",
            "Cosine Similarity between Source and Target in Row 128: 0.8278822898864746\n",
            "Cosine Similarity between Source and Target in Row 129: 0.7776974439620972\n",
            "Cosine Similarity between Source and Target in Row 130: 0.8960281610488892\n",
            "Cosine Similarity between Source and Target in Row 131: 0.8944166302680969\n",
            "Cosine Similarity between Source and Target in Row 132: 0.9125505685806274\n",
            "Cosine Similarity between Source and Target in Row 133: 0.8941465616226196\n",
            "Cosine Similarity between Source and Target in Row 134: 0.8904759287834167\n",
            "Cosine Similarity between Source and Target in Row 135: 0.9443863034248352\n",
            "Cosine Similarity between Source and Target in Row 136: 0.9358996748924255\n",
            "Cosine Similarity between Source and Target in Row 137: 0.9153708815574646\n",
            "Cosine Similarity between Source and Target in Row 138: 0.9545662999153137\n"
          ]
        }
      ]
    },
    {
      "cell_type": "markdown",
      "source": [
        "# Spearman Correlation"
      ],
      "metadata": {
        "id": "4eW2mW-tUkRW"
      },
      "id": "4eW2mW-tUkRW"
    },
    {
      "cell_type": "code",
      "source": [
        "spearman_corr_tde, spearman_p_value_tde = spearmanr(cos_sim_list, relevance_degree)"
      ],
      "metadata": {
        "id": "7ZYZv4C5URoX"
      },
      "id": "7ZYZv4C5URoX",
      "execution_count": null,
      "outputs": []
    },
    {
      "cell_type": "code",
      "source": [
        "spearman_corr_tde"
      ],
      "metadata": {
        "colab": {
          "base_uri": "https://localhost:8080/"
        },
        "id": "yx2Q0kmtURv3",
        "outputId": "aac7ae5c-d14f-4295-8e12-4a240ccc3ffc"
      },
      "id": "yx2Q0kmtURv3",
      "execution_count": null,
      "outputs": [
        {
          "output_type": "execute_result",
          "data": {
            "text/plain": [
              "0.34521510977679754"
            ]
          },
          "metadata": {},
          "execution_count": 91
        }
      ]
    },
    {
      "cell_type": "code",
      "source": [
        "spearman_p_value_tde"
      ],
      "metadata": {
        "colab": {
          "base_uri": "https://localhost:8080/"
        },
        "id": "fcPia8L0UR2k",
        "outputId": "ce53b7b9-d8ce-4612-b3dd-efc5b6e20fdc"
      },
      "id": "fcPia8L0UR2k",
      "execution_count": null,
      "outputs": [
        {
          "output_type": "execute_result",
          "data": {
            "text/plain": [
              "3.373225026753663e-05"
            ]
          },
          "metadata": {},
          "execution_count": 92
        }
      ]
    },
    {
      "cell_type": "markdown",
      "source": [
        "# Pearson Correlation"
      ],
      "metadata": {
        "id": "JNBSSOkWUSEq"
      },
      "id": "JNBSSOkWUSEq"
    },
    {
      "cell_type": "code",
      "source": [
        "pearson_corr_tde, pearson_p_value_tde = pearsonr(cos_sim_list, relevance_degree)"
      ],
      "metadata": {
        "id": "ONXMrs_GUSW4"
      },
      "id": "ONXMrs_GUSW4",
      "execution_count": null,
      "outputs": []
    },
    {
      "cell_type": "code",
      "source": [
        "pearson_corr_tde"
      ],
      "metadata": {
        "colab": {
          "base_uri": "https://localhost:8080/"
        },
        "id": "sw8Rdw6wUSfs",
        "outputId": "54baac3e-0baf-4fe9-952d-411315948354"
      },
      "id": "sw8Rdw6wUSfs",
      "execution_count": null,
      "outputs": [
        {
          "output_type": "execute_result",
          "data": {
            "text/plain": [
              "0.31501892242869345"
            ]
          },
          "metadata": {},
          "execution_count": 94
        }
      ]
    },
    {
      "cell_type": "code",
      "source": [
        "pearson_p_value_tde"
      ],
      "metadata": {
        "colab": {
          "base_uri": "https://localhost:8080/"
        },
        "id": "OMHPvd5NUSmk",
        "outputId": "3e93f39b-0342-46c4-ea1a-398d83b8cc8a"
      },
      "id": "OMHPvd5NUSmk",
      "execution_count": null,
      "outputs": [
        {
          "output_type": "execute_result",
          "data": {
            "text/plain": [
              "0.00016771816075431418"
            ]
          },
          "metadata": {},
          "execution_count": 95
        }
      ]
    },
    {
      "cell_type": "markdown",
      "source": [
        "# **Visualization of the results**"
      ],
      "metadata": {
        "id": "QbTtN74WqZbs"
      },
      "id": "QbTtN74WqZbs"
    },
    {
      "cell_type": "markdown",
      "source": [
        "La visualisation permet de comparer les niveaux de corrélation entre les embeddings et les degrés de pertinence. Des valeurs de corrélation élevées indiqueraient une forte relation entre la similarité de cosinus et la pertinence.\n",
        "\n",
        "Les graphiques obtenus permettent une comparaison visuelle des performances des différents types d'embeddings en termes de corrélation avec les degrés de pertinence."
      ],
      "metadata": {
        "id": "4zQCvkW9uNyE"
      },
      "id": "4zQCvkW9uNyE"
    },
    {
      "cell_type": "code",
      "source": [
        "import matplotlib.pyplot as plt\n",
        "import seaborn as sns"
      ],
      "metadata": {
        "id": "zLBvT3-vsC0r"
      },
      "id": "zLBvT3-vsC0r",
      "execution_count": null,
      "outputs": []
    },
    {
      "cell_type": "code",
      "source": [
        "spearman_correlation_values = [\n",
        "    spearman_corr_rnn_em_word_em, spearman_corr_pool_em_word_em,\n",
        "    spearman_corr_rnn_em_flair_em, spearman_corr_pool_em_flair_em,\n",
        "    spearman_corr_tde\n",
        "]\n",
        "\n",
        "pearson_correlation_values = [\n",
        "    pearson_corr_rnn_em_word_em, pearson_corr_pool_em_word_em,\n",
        "    pearson_corr_rnn_em_flair_em, pearson_corr_pool_em_flair_em,\n",
        "    pearson_corr_tde\n",
        "]\n",
        "\n",
        "embedding_labels = [\n",
        "    'RNN with WordEmbeddings', 'Pool with WordEmbeddings',\n",
        "    'RNN with FlairEmbeddings', 'Pool with FlairEmbeddings',\n",
        "    'TransformerDocumentEmbeddings'\n",
        "]\n"
      ],
      "metadata": {
        "id": "YeSDIGgOsJ3-"
      },
      "id": "YeSDIGgOsJ3-",
      "execution_count": null,
      "outputs": []
    },
    {
      "cell_type": "code",
      "source": [
        "plt.figure(figsize=(10, 6))\n",
        "sns.barplot(x=embedding_labels, y=spearman_correlation_values)\n",
        "plt.title('Spearman Correlation Coefficients for Different Embeddings')\n",
        "plt.ylabel('Spearman Correlation Value')\n",
        "plt.xlabel('Embedding Types')\n",
        "plt.xticks(rotation=45)\n",
        "plt.show()"
      ],
      "metadata": {
        "colab": {
          "base_uri": "https://localhost:8080/",
          "height": 731
        },
        "id": "6z9zdAoXqZ2X",
        "outputId": "06c1af48-110b-4a4f-aa79-b53b7fbcaaa7"
      },
      "id": "6z9zdAoXqZ2X",
      "execution_count": null,
      "outputs": [
        {
          "output_type": "display_data",
          "data": {
            "text/plain": [
              "<Figure size 1000x600 with 1 Axes>"
            ],
            "image/png": "[encoded data removed]"
          },
          "metadata": {}
        }
      ]
    },
    {
      "cell_type": "code",
      "source": [
        "plt.figure(figsize=(10, 6))\n",
        "sns.barplot(x=embedding_labels, y=pearson_correlation_values)\n",
        "plt.title('Pearson Correlation Coefficients for Different Embeddings')\n",
        "plt.ylabel('Pearson Correlation Value')\n",
        "plt.xlabel('Embedding Types')\n",
        "plt.xticks(rotation=45)\n",
        "plt.show()"
      ],
      "metadata": {
        "colab": {
          "base_uri": "https://localhost:8080/",
          "height": 731
        },
        "id": "k_8u10zvsL8R",
        "outputId": "6f5c9f1f-0864-4bdc-a882-cea74392caaf"
      },
      "id": "k_8u10zvsL8R",
      "execution_count": null,
      "outputs": [
        {
          "output_type": "display_data",
          "data": {
            "text/plain": [
              "<Figure size 1000x600 with 1 Axes>"
            ],
            "image/png": "[encoded data removed]"
          },
          "metadata": {}
        }
      ]
    }
  ],
  "metadata": {
    "accelerator": "TPU",
    "colab": {
      "provenance": []
    },
    "kernelspec": {
      "display_name": "Python 3",
      "name": "python3"
    },
    "language_info": {
      "codemirror_mode": {
        "name": "ipython",
        "version": 3
      },
      "file_extension": ".py",
      "mimetype": "text/x-python",
      "name": "python",
      "nbconvert_exporter": "python",
      "pygments_lexer": "ipython3",
      "version": "3.8.10"
    }
  },
  "nbformat": 4,
  "nbformat_minor": 5
}